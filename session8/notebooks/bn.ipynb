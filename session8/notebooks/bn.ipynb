{
 "cells": [
  {
   "cell_type": "code",
   "execution_count": null,
   "metadata": {
    "colab": {
     "base_uri": "https://localhost:8080/"
    },
    "id": "XFwb3Nc6tWMk",
    "outputId": "bd562ae5-2844-44b7-b140-6d99702de55f"
   },
   "outputs": [],
   "source": [
    "!pip install torchinfo"
   ]
  },
  {
   "cell_type": "code",
   "execution_count": null,
   "metadata": {
    "id": "Y5KS59oktNpG"
   },
   "outputs": [],
   "source": [
    "import torch\n",
    "import torch.optim as optim\n",
    "from models.s8 import Net\n",
    "from torchvision import transforms as T\n",
    "from utils import Trainer, build_cifar, plot_misclassified, plot_sampledata"
   ]
  },
  {
   "attachments": {},
   "cell_type": "markdown",
   "metadata": {
    "id": "mr7JT8Aytioi"
   },
   "source": [
    "# Load Data"
   ]
  },
  {
   "cell_type": "code",
   "execution_count": null,
   "metadata": {
    "colab": {
     "base_uri": "https://localhost:8080/"
    },
    "id": "5M8iPvjqtZHb",
    "outputId": "c1c1fd04-8779-40c8-b164-38a7e69d89ae"
   },
   "outputs": [],
   "source": [
    "# Train data transformations\n",
    "train_transforms = T.Compose(\n",
    "    [\n",
    "        T.ColorJitter(brightness=0.4, contrast=0.4, saturation=0.40, hue=0.1),\n",
    "        T.RandomRotation((-5.0, 5.0), fill=(0.49139968, 0.48215841, 0.44653091)),\n",
    "        T.RandomHorizontalFlip(),\n",
    "        T.ToTensor(),\n",
    "        T.Normalize(\n",
    "            (0.49139968, 0.48215841, 0.44653091),\n",
    "            (0.24703223, 0.24348513, 0.26158784),\n",
    "        ),\n",
    "    ]\n",
    ")\n",
    "\n",
    "# Test data transformations\n",
    "test_transforms = T.Compose([T.ToTensor(), T.Normalize((0.1307,), (0.3081,))])\n",
    "\n",
    "batch_size = 64\n",
    "\n",
    "kwargs = {\n",
    "    \"batch_size\": batch_size,\n",
    "    \"shuffle\": True,\n",
    "    \"num_workers\": 2,\n",
    "    \"pin_memory\": True,\n",
    "}\n",
    "\n",
    "train_data, train_loader = build_cifar(set=\"train\", transforms=train_transforms, **kwargs)\n",
    "test_data, test_loader = build_cifar(set=\"test\", transforms=test_transforms, **kwargs)"
   ]
  },
  {
   "cell_type": "code",
   "execution_count": null,
   "metadata": {
    "colab": {
     "base_uri": "https://localhost:8080/",
     "height": 671
    },
    "id": "ZlX5ZH0Utjwm",
    "outputId": "0bf5c940-e82a-4b15-9d06-9a84b880ff91"
   },
   "outputs": [],
   "source": [
    "plot_sampledata(train_loader)"
   ]
  },
  {
   "cell_type": "code",
   "execution_count": null,
   "metadata": {
    "id": "a5Fpmv0Ctzrr"
   },
   "outputs": [],
   "source": [
    "use_cuda = torch.cuda.is_available()\n",
    "device = torch.device(\"cuda\" if use_cuda else \"cpu\")\n",
    "model = Net().to(device)"
   ]
  },
  {
   "cell_type": "code",
   "execution_count": null,
   "metadata": {
    "colab": {
     "base_uri": "https://localhost:8080/"
    },
    "id": "ZQX5zpwMxgoo",
    "outputId": "d7a769c6-f002-4885-e3ca-9948a3a43739"
   },
   "outputs": [],
   "source": [
    "model.summarize(device, (1, 3, 32, 32))"
   ]
  },
  {
   "cell_type": "code",
   "execution_count": null,
   "metadata": {
    "colab": {
     "base_uri": "https://localhost:8080/"
    },
    "id": "ZSecODe9xhp7",
    "outputId": "3eb4c4f8-71a4-4f68-e409-1081fb06970f"
   },
   "outputs": [],
   "source": [
    "num_epochs = 20\n",
    "model = Net(drop=0.025).to(device)\n",
    "optimizer = optim.SGD(model.parameters(), lr=0.015, momentum=0.9)\n",
    "scheduler = optim.lr_scheduler.OneCycleLR(\n",
    "    optimizer, max_lr=0.015, epochs=num_epochs, steps_per_epoch=len(train_loader)\n",
    ")\n",
    "# scheduler = None\n",
    "\n",
    "trainer = Trainer(model, device, optimizer, scheduler)\n",
    "for epoch in range(1, num_epochs + 1):\n",
    "    print(f\"Epoch {epoch}\")\n",
    "    trainer.train(train_loader)\n",
    "    trainer.test(test_loader)"
   ]
  },
  {
   "cell_type": "code",
   "execution_count": null,
   "metadata": {
    "colab": {
     "base_uri": "https://localhost:8080/",
     "height": 539
    },
    "id": "bFvg88ddXpgv",
    "outputId": "6e7d699f-39d7-44d4-c4e7-4f5c08579e4c"
   },
   "outputs": [],
   "source": [
    "trainer.plot_history()"
   ]
  },
  {
   "cell_type": "code",
   "execution_count": null,
   "metadata": {
    "colab": {
     "base_uri": "https://localhost:8080/",
     "height": 710
    },
    "id": "4t5jHL9MWe1A",
    "outputId": "9cf64e15-ef11-414f-f455-7208c28df2d2"
   },
   "outputs": [],
   "source": [
    "plot_misclassified(\n",
    "    model,\n",
    "    test_loader,\n",
    "    device,\n",
    "    (0.49139968, 0.48215841, 0.44653091),\n",
    "    (0.24703223, 0.24348513, 0.26158784),\n",
    ")"
   ]
  },
  {
   "cell_type": "code",
   "execution_count": null,
   "metadata": {
    "id": "sM8SmKRiW1O5"
   },
   "outputs": [],
   "source": []
  }
 ],
 "metadata": {
  "accelerator": "GPU",
  "colab": {
   "gpuType": "T4",
   "provenance": []
  },
  "kernelspec": {
   "display_name": "Python 3",
   "name": "python3"
  },
  "language_info": {
   "name": "python"
  }
 },
 "nbformat": 4,
 "nbformat_minor": 0
}
