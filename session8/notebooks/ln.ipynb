{
 "cells": [
  {
   "cell_type": "code",
   "execution_count": null,
   "metadata": {
    "colab": {
     "base_uri": "https://localhost:8080/"
    },
    "id": "XFwb3Nc6tWMk",
    "outputId": "5236ae27-3e87-4c5c-813b-bcbf58b61cd1"
   },
   "outputs": [],
   "source": [
    "!pip install torchinfo"
   ]
  },
  {
   "cell_type": "code",
   "execution_count": null,
   "metadata": {
    "id": "Y5KS59oktNpG"
   },
   "outputs": [],
   "source": [
    "import torch\n",
    "import torch.optim as optim\n",
    "from models.s8 import Net\n",
    "from torchvision import transforms as T\n",
    "from utils import Trainer, build_cifar, plot_misclassified, plot_sampledata"
   ]
  },
  {
   "attachments": {},
   "cell_type": "markdown",
   "metadata": {
    "id": "mr7JT8Aytioi"
   },
   "source": [
    "# Load Data"
   ]
  },
  {
   "cell_type": "code",
   "execution_count": null,
   "metadata": {
    "colab": {
     "base_uri": "https://localhost:8080/"
    },
    "id": "5M8iPvjqtZHb",
    "outputId": "022a3c6b-a98b-4ce5-85bb-e4cbccfd363a"
   },
   "outputs": [],
   "source": [
    "# Train data transformations\n",
    "train_transforms = T.Compose(\n",
    "    [\n",
    "        T.ColorJitter(brightness=0.4, contrast=0.4, saturation=0.40, hue=0.1),\n",
    "        T.RandomRotation((-5.0, 5.0), fill=(0.49139968, 0.48215841, 0.44653091)),\n",
    "        T.RandomHorizontalFlip(),\n",
    "        T.ToTensor(),\n",
    "        T.Normalize(\n",
    "            (0.49139968, 0.48215841, 0.44653091),\n",
    "            (0.24703223, 0.24348513, 0.26158784),\n",
    "        ),\n",
    "    ]\n",
    ")\n",
    "\n",
    "# Test data transformations\n",
    "test_transforms = T.Compose([T.ToTensor(), T.Normalize((0.1307,), (0.3081,))])\n",
    "\n",
    "batch_size = 64\n",
    "\n",
    "kwargs = {\n",
    "    \"batch_size\": batch_size,\n",
    "    \"shuffle\": True,\n",
    "    \"num_workers\": 2,\n",
    "    \"pin_memory\": True,\n",
    "}\n",
    "\n",
    "train_data, train_loader = build_cifar(set=\"train\", transforms=train_transforms, **kwargs)\n",
    "test_data, test_loader = build_cifar(set=\"test\", transforms=test_transforms, **kwargs)"
   ]
  },
  {
   "cell_type": "code",
   "execution_count": null,
   "metadata": {
    "colab": {
     "base_uri": "https://localhost:8080/",
     "height": 671
    },
    "id": "ZlX5ZH0Utjwm",
    "outputId": "3b600794-cf19-4bac-de1f-5ca318cfebad"
   },
   "outputs": [],
   "source": [
    "plot_sampledata(train_loader)"
   ]
  },
  {
   "cell_type": "code",
   "execution_count": null,
   "metadata": {
    "id": "a5Fpmv0Ctzrr"
   },
   "outputs": [],
   "source": [
    "use_cuda = torch.cuda.is_available()\n",
    "device = torch.device(\"cuda\" if use_cuda else \"cpu\")\n",
    "model = Net(norm=\"ln\").to(device)"
   ]
  },
  {
   "cell_type": "code",
   "execution_count": null,
   "metadata": {
    "colab": {
     "base_uri": "https://localhost:8080/"
    },
    "id": "ZQX5zpwMxgoo",
    "outputId": "292fece4-539b-4c6b-9bd8-1043f64aff75"
   },
   "outputs": [],
   "source": [
    "model.summarize(device, (1, 3, 32, 32))"
   ]
  },
  {
   "cell_type": "code",
   "execution_count": null,
   "metadata": {
    "colab": {
     "base_uri": "https://localhost:8080/"
    },
    "id": "ZSecODe9xhp7",
    "outputId": "4d0be4e7-d8a1-4d49-ab9c-460ed0678dd7"
   },
   "outputs": [],
   "source": [
    "num_epochs = 20\n",
    "model = Net(drop=0.025, norm=\"ln\").to(device)\n",
    "optimizer = optim.SGD(model.parameters(), lr=0.01, momentum=0.9)\n",
    "scheduler = optim.lr_scheduler.OneCycleLR(\n",
    "    optimizer, max_lr=0.01, epochs=num_epochs, steps_per_epoch=len(train_loader)\n",
    ")\n",
    "# scheduler = None\n",
    "\n",
    "trainer = Trainer(model, device, optimizer, scheduler)\n",
    "for epoch in range(1, num_epochs + 1):\n",
    "    print(f\"Epoch {epoch}\")\n",
    "    trainer.train(train_loader)\n",
    "    trainer.test(test_loader)"
   ]
  },
  {
   "cell_type": "code",
   "execution_count": null,
   "metadata": {
    "colab": {
     "base_uri": "https://localhost:8080/",
     "height": 539
    },
    "id": "bFvg88ddXpgv",
    "outputId": "f548dc27-7d39-4503-9cdd-74fc4b6914c3"
   },
   "outputs": [],
   "source": [
    "trainer.plot_history()"
   ]
  },
  {
   "cell_type": "code",
   "execution_count": null,
   "metadata": {
    "colab": {
     "base_uri": "https://localhost:8080/",
     "height": 728
    },
    "id": "4t5jHL9MWe1A",
    "outputId": "6535d7d1-eafc-47ac-a695-fd10a8310620"
   },
   "outputs": [],
   "source": [
    "plot_misclassified(\n",
    "    model,\n",
    "    test_loader,\n",
    "    device,\n",
    "    (0.49139968, 0.48215841, 0.44653091),\n",
    "    (0.24703223, 0.24348513, 0.26158784),\n",
    ")"
   ]
  },
  {
   "cell_type": "code",
   "execution_count": null,
   "metadata": {
    "id": "sM8SmKRiW1O5"
   },
   "outputs": [],
   "source": []
  }
 ],
 "metadata": {
  "accelerator": "GPU",
  "colab": {
   "provenance": []
  },
  "kernelspec": {
   "display_name": "Python 3",
   "name": "python3"
  },
  "language_info": {
   "name": "python"
  }
 },
 "nbformat": 4,
 "nbformat_minor": 0
}
