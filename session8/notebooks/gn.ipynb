{
 "cells": [
  {
   "cell_type": "code",
   "execution_count": null,
   "metadata": {
    "colab": {
     "base_uri": "https://localhost:8080/"
    },
    "id": "XFwb3Nc6tWMk",
    "outputId": "d6553e91-be06-4f27-d61a-28e913197388"
   },
   "outputs": [],
   "source": [
    "!pip install torchinfo"
   ]
  },
  {
   "cell_type": "code",
   "execution_count": null,
   "metadata": {
    "id": "Y5KS59oktNpG"
   },
   "outputs": [],
   "source": [
    "import torch\n",
    "import torch.optim as optim\n",
    "from models.s8 import Net\n",
    "from torchvision import transforms as T\n",
    "from utils import Trainer, build_cifar, plot_misclassified, plot_sampledata"
   ]
  },
  {
   "attachments": {},
   "cell_type": "markdown",
   "metadata": {
    "id": "mr7JT8Aytioi"
   },
   "source": [
    "# Load Data"
   ]
  },
  {
   "cell_type": "code",
   "execution_count": null,
   "metadata": {
    "colab": {
     "base_uri": "https://localhost:8080/"
    },
    "id": "5M8iPvjqtZHb",
    "outputId": "3ad51d25-7daa-4d01-effd-d45ae38c3b8a"
   },
   "outputs": [],
   "source": [
    "# Train data transformations\n",
    "train_transforms = T.Compose(\n",
    "    [\n",
    "        T.ColorJitter(brightness=0.4, contrast=0.4, saturation=0.40, hue=0.1),\n",
    "        T.RandomRotation((-5.0, 5.0), fill=(0.49139968, 0.48215841, 0.44653091)),\n",
    "        T.RandomHorizontalFlip(),\n",
    "        T.ToTensor(),\n",
    "        T.Normalize(\n",
    "            (0.49139968, 0.48215841, 0.44653091),\n",
    "            (0.24703223, 0.24348513, 0.26158784),\n",
    "        ),\n",
    "    ]\n",
    ")\n",
    "\n",
    "# Test data transformations\n",
    "test_transforms = T.Compose([T.ToTensor(), T.Normalize((0.1307,), (0.3081,))])\n",
    "\n",
    "batch_size = 64\n",
    "\n",
    "kwargs = {\n",
    "    \"batch_size\": batch_size,\n",
    "    \"shuffle\": True,\n",
    "    \"num_workers\": 2,\n",
    "    \"pin_memory\": True,\n",
    "}\n",
    "\n",
    "train_data, train_loader = build_cifar(set=\"train\", transforms=train_transforms, **kwargs)\n",
    "test_data, test_loader = build_cifar(set=\"test\", transforms=test_transforms, **kwargs)"
   ]
  },
  {
   "cell_type": "code",
   "execution_count": null,
   "metadata": {
    "colab": {
     "base_uri": "https://localhost:8080/",
     "height": 671
    },
    "id": "ZlX5ZH0Utjwm",
    "outputId": "6dd606c4-c165-41ad-fbe4-22a013df003f"
   },
   "outputs": [],
   "source": [
    "plot_sampledata(train_loader)"
   ]
  },
  {
   "cell_type": "code",
   "execution_count": null,
   "metadata": {
    "id": "a5Fpmv0Ctzrr"
   },
   "outputs": [],
   "source": [
    "use_cuda = torch.cuda.is_available()\n",
    "device = torch.device(\"cuda\" if use_cuda else \"cpu\")\n",
    "model = Net(norm=\"gn\").to(device)"
   ]
  },
  {
   "cell_type": "code",
   "execution_count": null,
   "metadata": {
    "colab": {
     "base_uri": "https://localhost:8080/"
    },
    "id": "ZQX5zpwMxgoo",
    "outputId": "c4dc6903-78c7-4d94-a350-6726aae134e1"
   },
   "outputs": [],
   "source": [
    "model.summarize(device, (1, 3, 32, 32))"
   ]
  },
  {
   "cell_type": "code",
   "execution_count": null,
   "metadata": {
    "colab": {
     "background_save": true,
     "base_uri": "https://localhost:8080/"
    },
    "id": "ZSecODe9xhp7",
    "outputId": "c41755c5-70f9-4a27-bb8d-80c76dceed4f"
   },
   "outputs": [],
   "source": [
    "num_epochs = 20\n",
    "model = Net(drop=0.025, norm=\"gn\").to(device)\n",
    "optimizer = optim.SGD(model.parameters(), lr=0.01, momentum=0.9)\n",
    "scheduler = optim.lr_scheduler.OneCycleLR(\n",
    "    optimizer, max_lr=0.01, epochs=num_epochs, steps_per_epoch=len(train_loader)\n",
    ")\n",
    "# scheduler = None\n",
    "\n",
    "trainer = Trainer(model, device, optimizer, scheduler)\n",
    "for epoch in range(1, num_epochs + 1):\n",
    "    print(f\"Epoch {epoch}\")\n",
    "    trainer.train(train_loader)\n",
    "    trainer.test(test_loader)"
   ]
  },
  {
   "cell_type": "code",
   "execution_count": null,
   "metadata": {
    "colab": {
     "background_save": true
    },
    "id": "bFvg88ddXpgv",
    "outputId": "500f1933-c5a9-4d7b-ee06-be9e3911ca99"
   },
   "outputs": [],
   "source": [
    "trainer.plot_history()"
   ]
  },
  {
   "cell_type": "code",
   "execution_count": null,
   "metadata": {
    "colab": {
     "background_save": true
    },
    "id": "4t5jHL9MWe1A",
    "outputId": "e8454d3c-5b20-4fe5-a219-0bef24cb41e5"
   },
   "outputs": [],
   "source": [
    "plot_misclassified(\n",
    "    model,\n",
    "    test_loader,\n",
    "    device,\n",
    "    (0.49139968, 0.48215841, 0.44653091),\n",
    "    (0.24703223, 0.24348513, 0.26158784),\n",
    ")"
   ]
  },
  {
   "cell_type": "code",
   "execution_count": null,
   "metadata": {
    "id": "sM8SmKRiW1O5"
   },
   "outputs": [],
   "source": []
  }
 ],
 "metadata": {
  "accelerator": "GPU",
  "colab": {
   "provenance": []
  },
  "kernelspec": {
   "display_name": "Python 3",
   "name": "python3"
  },
  "language_info": {
   "name": "python"
  }
 },
 "nbformat": 4,
 "nbformat_minor": 0
}
