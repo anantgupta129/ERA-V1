{
 "cells": [
  {
   "cell_type": "code",
   "execution_count": null,
   "metadata": {
    "colab": {
     "base_uri": "https://localhost:8080/"
    },
    "id": "XFwb3Nc6tWMk",
    "outputId": "3bda9286-1d6b-44e3-b801-deeae27db9bc"
   },
   "outputs": [],
   "source": [
    "!git clone https://github.com/anantgupta129/ERA-V1.git\n",
    "%cd ERA-V1/easytorch/"
   ]
  },
  {
   "cell_type": "code",
   "execution_count": null,
   "metadata": {
    "colab": {
     "base_uri": "https://localhost:8080/"
    },
    "id": "SgNwWHcQ1qzj",
    "outputId": "2af359e7-6ee9-4b47-cd60-9098a37977b2"
   },
   "outputs": [],
   "source": [
    "!python setup.py sdist\n",
    "!pip install ."
   ]
  },
  {
   "cell_type": "code",
   "execution_count": null,
   "metadata": {
    "colab": {
     "base_uri": "https://localhost:8080/"
    },
    "id": "SQdX0Es--rvR",
    "outputId": "a7f8e72c-be4a-48d3-9b1e-50ffdcaa0b44"
   },
   "outputs": [],
   "source": [
    "%cd /content/"
   ]
  },
  {
   "cell_type": "code",
   "execution_count": null,
   "metadata": {
    "id": "Y5KS59oktNpG"
   },
   "outputs": [],
   "source": [
    "import albumentations as A\n",
    "import torch\n",
    "import torch.optim as optim\n",
    "from albumentations.pytorch import ToTensorV2\n",
    "from torchvision import transforms as T\n",
    "\n",
    "from easytorch.dataset import build_cifar\n",
    "from easytorch.models.custom_resnet import ResNet18"
   ]
  },
  {
   "cell_type": "markdown",
   "metadata": {
    "id": "mr7JT8Aytioi"
   },
   "source": [
    "# Load Data"
   ]
  },
  {
   "cell_type": "code",
   "execution_count": null,
   "metadata": {
    "colab": {
     "base_uri": "https://localhost:8080/"
    },
    "id": "GPfRDRpZACDu",
    "outputId": "94d03263-7d99-48b6-c5c0-bd538fd63b38"
   },
   "outputs": [],
   "source": [
    "batch_size = 512\n",
    "\n",
    "kwargs = {\n",
    "    \"batch_size\": batch_size,\n",
    "    \"shuffle\": True,\n",
    "    \"num_workers\": 2,\n",
    "    \"pin_memory\": True,\n",
    "}\n",
    "mean = (0.49139968, 0.48215841, 0.44653091)\n",
    "std = (0.24703223, 0.24348513, 0.26158784)\n",
    "train_transforms = A.Compose(\n",
    "    [\n",
    "        A.Sequential(\n",
    "            [\n",
    "                A.CropAndPad(px=4, keep_size=False),  # padding of 2, keep_size=True by defaulf\n",
    "                A.RandomCrop(32, 32),\n",
    "            ]\n",
    "        ),\n",
    "        A.CoarseDropout(1, 16, 16, 1, 16, 16, fill_value=mean, mask_fill_value=None),\n",
    "        A.Normalize(mean, std),\n",
    "        ToTensorV2(),\n",
    "    ]\n",
    ")\n",
    "train_loader = build_cifar(set=\"train\", augments=train_transforms, **kwargs)\n",
    "test_loader = build_cifar(set=\"test\", **kwargs)"
   ]
  },
  {
   "cell_type": "code",
   "execution_count": null,
   "metadata": {
    "colab": {
     "base_uri": "https://localhost:8080/"
    },
    "id": "a5Fpmv0Ctzrr",
    "outputId": "31063ce7-14b8-42f7-f3fc-440d02e4e72f"
   },
   "outputs": [],
   "source": [
    "use_cuda = torch.cuda.is_available()\n",
    "device = torch.device(\"cuda\" if use_cuda else \"cpu\")\n",
    "print(device)"
   ]
  },
  {
   "cell_type": "code",
   "execution_count": null,
   "metadata": {
    "colab": {
     "base_uri": "https://localhost:8080/"
    },
    "id": "ZQX5zpwMxgoo",
    "outputId": "c2defc23-ae3f-4b76-bf50-7978538d1536"
   },
   "outputs": [],
   "source": [
    "model = ResNet18().to(device)\n",
    "model.summarize(device, (1, 3, 32, 32))"
   ]
  },
  {
   "cell_type": "code",
   "execution_count": null,
   "metadata": {
    "colab": {
     "base_uri": "https://localhost:8080/",
     "height": 538,
     "referenced_widgets": [
      "a97a45ca5fff4816aba27ae3eb0332b1",
      "31d100ddc4b94f4cbf3493884b305299",
      "091d71bf276a4034adf5ca6103658829",
      "d782e10a29e34ed685523f17ca59d197",
      "0c6cba2c574349179d60272e19a17322",
      "dc7e6aeeef124788bbd179150fea7026",
      "432544afbcb347259119cf7b2a64b39c",
      "2a1d57a6a598478caf308e9c428c305c",
      "86162a15435946b9b0dba057026d1b63",
      "ea995824fa104cbd92a16324adbac5a7",
      "3e3ce7d6e9a54a8dbd2d1d96c3a3d74d"
     ]
    },
    "id": "-NC38cJ6AI5X",
    "outputId": "85c0fa8b-5ff0-44e0-c654-0b9ef3393fb3"
   },
   "outputs": [],
   "source": [
    "from torch.nn import CrossEntropyLoss\n",
    "\n",
    "from easytorch.utils.misc import find_lr\n",
    "\n",
    "model = ResNet18().to(device)\n",
    "optimizer = torch.optim.SGD(model.parameters(), lr=0.01, momentum=0.9)\n",
    "\n",
    "kwargs = {\"end_lr\": 10, \"num_iter\": 200, \"step_mode\": \"exp\"}\n",
    "find_lr(model, device, optimizer, criterion=CrossEntropyLoss(), dataloader=train_loader, **kwargs)"
   ]
  },
  {
   "cell_type": "code",
   "execution_count": null,
   "metadata": {
    "colab": {
     "base_uri": "https://localhost:8080/"
    },
    "id": "k0nHjFEO4pja",
    "outputId": "c9e5ea28-da2f-4470-8043-e0d4fbcfc47d"
   },
   "outputs": [],
   "source": [
    "from torch.optim.lr_scheduler import OneCycleLR\n",
    "\n",
    "from easytorch.trainer import Trainer\n",
    "\n",
    "num_epochs = 20\n",
    "\n",
    "scheduler = OneCycleLR(\n",
    "    optimizer,\n",
    "    max_lr=1.63e-02,\n",
    "    steps_per_epoch=len(train_loader),\n",
    "    epochs=num_epochs,\n",
    "    pct_start=5 / num_epochs,\n",
    "    div_factor=100,\n",
    "    three_phase=False,\n",
    "    final_div_factor=100,\n",
    "    anneal_strategy=\"linear\",\n",
    ")\n",
    "\n",
    "# scheduler = None\n",
    "trainer = Trainer(model, device, optimizer, scheduler)\n",
    "for epoch in range(1, num_epochs + 1):\n",
    "    print(f\"Epoch {epoch}\")\n",
    "    trainer.train(train_loader)\n",
    "    trainer.evaluate(test_loader)"
   ]
  },
  {
   "cell_type": "code",
   "execution_count": null,
   "metadata": {
    "colab": {
     "base_uri": "https://localhost:8080/",
     "height": 539
    },
    "id": "bFvg88ddXpgv",
    "outputId": "b3da778d-915a-48a5-8a56-5e8d66c24109"
   },
   "outputs": [],
   "source": [
    "trainer.plot_history()"
   ]
  },
  {
   "cell_type": "markdown",
   "metadata": {
    "id": "apjDX4MhA-jR"
   },
   "source": [
    "# Evaluate"
   ]
  },
  {
   "cell_type": "code",
   "execution_count": null,
   "metadata": {
    "id": "sAqTjLPPF-39"
   },
   "outputs": [],
   "source": [
    "from easytorch.dataset import make_transform\n",
    "from easytorch.utils.misc import per_class_accuracy\n",
    "from easytorch.utils.plotting import plot_misclassified\n",
    "\n",
    "test_transforms = make_transform(\"test\")"
   ]
  },
  {
   "cell_type": "code",
   "execution_count": null,
   "metadata": {
    "colab": {
     "base_uri": "https://localhost:8080/"
    },
    "id": "sk4FsS1DYQ8E",
    "outputId": "65a8da98-817e-43d1-aade-b493e9cd6760"
   },
   "outputs": [],
   "source": [
    "per_class_accuracy(model, device, test_loader)"
   ]
  },
  {
   "cell_type": "code",
   "execution_count": null,
   "metadata": {
    "colab": {
     "base_uri": "https://localhost:8080/",
     "height": 554
    },
    "id": "4t5jHL9MWe1A",
    "outputId": "1418ebe0-ddaf-47fc-d7e1-a87e039b10e2"
   },
   "outputs": [],
   "source": [
    "misclassified_imgs = plot_misclassified(\n",
    "    model, test_loader, device, test_transforms, return_imgs=True\n",
    ")"
   ]
  },
  {
   "cell_type": "markdown",
   "metadata": {
    "id": "QEEPqW6IG4SG"
   },
   "source": [
    "# GradCam Results"
   ]
  },
  {
   "cell_type": "code",
   "execution_count": null,
   "metadata": {
    "colab": {
     "base_uri": "https://localhost:8080/"
    },
    "id": "RlLuuWmuHEY6",
    "outputId": "21b605a8-f01b-4815-eece-7a53992169c7"
   },
   "outputs": [],
   "source": [
    "model.layer4[1]"
   ]
  },
  {
   "cell_type": "code",
   "execution_count": null,
   "metadata": {
    "colab": {
     "base_uri": "https://localhost:8080/",
     "height": 407
    },
    "id": "AsumxflQuF1z",
    "outputId": "9f13ee21-5c5b-47ae-92b4-58c3e03c6ac4"
   },
   "outputs": [],
   "source": [
    "from easytorch.utils.gradcam import plot_cam_on_image\n",
    "\n",
    "plot_cam_on_image(model, [model.layer4[1]], misclassified_imgs, {\"mean\": mean, \"std\": std})"
   ]
  },
  {
   "cell_type": "code",
   "execution_count": null,
   "metadata": {
    "id": "91mea-g8IFTN"
   },
   "outputs": [],
   "source": []
  }
 ],
 "metadata": {
  "accelerator": "GPU",
  "colab": {
   "provenance": []
  },
  "kernelspec": {
   "display_name": "Python 3",
   "name": "python3"
  },
  "language_info": {
   "name": "python"
  }
 },
 "nbformat": 4,
 "nbformat_minor": 0
}
