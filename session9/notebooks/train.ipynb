{
 "cells": [
  {
   "cell_type": "code",
   "execution_count": 1,
   "metadata": {
    "colab": {
     "base_uri": "https://localhost:8080/"
    },
    "id": "XFwb3Nc6tWMk",
    "outputId": "9b5532fc-9278-44ac-daf4-f93ad0340d1e"
   },
   "outputs": [
    {
     "name": "stdout",
     "output_type": "stream",
     "text": [
      "Collecting torchinfo\n",
      "  Downloading torchinfo-1.8.0-py3-none-any.whl (23 kB)\n",
      "Installing collected packages: torchinfo\n",
      "Successfully installed torchinfo-1.8.0\n"
     ]
    }
   ],
   "source": [
    "!pip install torchinfo"
   ]
  },
  {
   "cell_type": "code",
   "execution_count": 5,
   "metadata": {
    "colab": {
     "base_uri": "https://localhost:8080/"
    },
    "id": "Mv9JCB8U-hgc",
    "outputId": "1d393ecc-31e6-4ba4-b131-802e49688350"
   },
   "outputs": [
    {
     "name": "stdout",
     "output_type": "stream",
     "text": [
      "Cloning into 'ERA-V1'...\n",
      "remote: Enumerating objects: 152, done.\u001b[K\n",
      "remote: Counting objects: 100% (152/152), done.\u001b[K\n",
      "remote: Compressing objects: 100% (103/103), done.\u001b[K\n",
      "remote: Total 152 (delta 68), reused 129 (delta 46), pack-reused 0\u001b[K\n",
      "Receiving objects: 100% (152/152), 2.28 MiB | 12.04 MiB/s, done.\n",
      "Resolving deltas: 100% (68/68), done.\n"
     ]
    }
   ],
   "source": [
    "!git clone https://github.com/anantgupta129/ERA-V1.git"
   ]
  },
  {
   "cell_type": "code",
   "execution_count": 6,
   "metadata": {
    "colab": {
     "base_uri": "https://localhost:8080/"
    },
    "id": "SQdX0Es--rvR",
    "outputId": "b45e3476-4abe-465f-a1ba-7f8b31707c07"
   },
   "outputs": [
    {
     "name": "stdout",
     "output_type": "stream",
     "text": [
      "/content/ERA-V1/session9\n"
     ]
    }
   ],
   "source": [
    "# !rm -rf /content/ERA-V1\n",
    "%cd ERA-V1/session9"
   ]
  },
  {
   "cell_type": "code",
   "execution_count": 7,
   "metadata": {
    "id": "Y5KS59oktNpG"
   },
   "outputs": [],
   "source": [
    "import torch\n",
    "from torchvision import transforms as T\n",
    "\n",
    "import torch.optim as optim\n",
    "\n",
    "from models import Net\n",
    "from dataset import build_cifar\n",
    "from utils import Trainer, plot_sampledata, plot_misclassified, per_class_accuracy"
   ]
  },
  {
   "attachments": {},
   "cell_type": "markdown",
   "metadata": {
    "id": "mr7JT8Aytioi"
   },
   "source": [
    "# Load Data"
   ]
  },
  {
   "cell_type": "code",
   "execution_count": 5,
   "metadata": {
    "colab": {
     "base_uri": "https://localhost:8080/"
    },
    "id": "GPfRDRpZACDu",
    "outputId": "87a1ab4c-f8a7-4bbe-db40-b8d686fb3895"
   },
   "outputs": [
    {
     "name": "stdout",
     "output_type": "stream",
     "text": [
      "Downloading https://www.cs.toronto.edu/~kriz/cifar-10-python.tar.gz to ./data/cifar-10-python.tar.gz\n"
     ]
    },
    {
     "name": "stderr",
     "output_type": "stream",
     "text": [
      "100%|██████████| 170498071/170498071 [00:01<00:00, 104927970.85it/s]\n"
     ]
    },
    {
     "name": "stdout",
     "output_type": "stream",
     "text": [
      "Extracting ./data/cifar-10-python.tar.gz to ./data\n",
      "Files already downloaded and verified\n"
     ]
    }
   ],
   "source": [
    "batch_size = 128\n",
    "\n",
    "kwargs = {\n",
    "    \"batch_size\": batch_size,\n",
    "    \"shuffle\": True,\n",
    "    \"num_workers\": 2,\n",
    "    \"pin_memory\": True,\n",
    "}\n",
    "\n",
    "train_loader = build_cifar(set=\"train\", **kwargs)\n",
    "test_loader = build_cifar(set=\"test\", **kwargs)"
   ]
  },
  {
   "cell_type": "code",
   "execution_count": 8,
   "metadata": {
    "colab": {
     "base_uri": "https://localhost:8080/"
    },
    "id": "a5Fpmv0Ctzrr",
    "outputId": "49ad9d4e-fda5-4d06-e59d-755d3964044d"
   },
   "outputs": [
    {
     "name": "stdout",
     "output_type": "stream",
     "text": [
      "cuda\n"
     ]
    }
   ],
   "source": [
    "use_cuda = torch.cuda.is_available()\n",
    "device = torch.device(\"cuda\" if use_cuda else \"cpu\")\n",
    "print(device)\n",
    "model = Net().to(device)"
   ]
  },
  {
   "cell_type": "code",
   "execution_count": 9,
   "metadata": {
    "colab": {
     "base_uri": "https://localhost:8080/"
    },
    "id": "ZQX5zpwMxgoo",
    "outputId": "1a52912d-edcf-43fe-bfc6-deeb0b028cfe"
   },
   "outputs": [
    {
     "name": "stdout",
     "output_type": "stream",
     "text": [
      "==========================================================================================\n",
      "Layer (type:depth-idx)                   Output Shape              Param #\n",
      "==========================================================================================\n",
      "Net                                      [1, 10]                   --\n",
      "├─Sequential: 1-1                        [1, 32, 16, 16]           --\n",
      "│    └─Conv2d: 2-1                       [1, 32, 32, 32]           864\n",
      "│    └─BatchNorm2d: 2-2                  [1, 32, 32, 32]           64\n",
      "│    └─ReLU: 2-3                         [1, 32, 32, 32]           --\n",
      "│    └─Dropout2d: 2-4                    [1, 32, 32, 32]           --\n",
      "│    └─DepthwiseSeparable: 2-5           [1, 32, 32, 32]           --\n",
      "│    │    └─Conv2d: 3-1                  [1, 32, 32, 32]           288\n",
      "│    │    └─Conv2d: 3-2                  [1, 32, 32, 32]           1,024\n",
      "│    └─BatchNorm2d: 2-6                  [1, 32, 32, 32]           64\n",
      "│    └─ReLU: 2-7                         [1, 32, 32, 32]           --\n",
      "│    └─Dropout2d: 2-8                    [1, 32, 32, 32]           --\n",
      "│    └─Conv2d: 2-9                       [1, 32, 16, 16]           9,216\n",
      "│    └─BatchNorm2d: 2-10                 [1, 32, 16, 16]           64\n",
      "│    └─ReLU: 2-11                        [1, 32, 16, 16]           --\n",
      "│    └─Dropout2d: 2-12                   [1, 32, 16, 16]           --\n",
      "├─Sequential: 1-2                        [1, 16, 16, 16]           --\n",
      "│    └─Conv2d: 2-13                      [1, 16, 16, 16]           512\n",
      "│    └─ReLU: 2-14                        [1, 16, 16, 16]           --\n",
      "├─Sequential: 1-3                        [1, 32, 8, 8]             --\n",
      "│    └─Conv2d: 2-15                      [1, 32, 16, 16]           4,608\n",
      "│    └─BatchNorm2d: 2-16                 [1, 32, 16, 16]           64\n",
      "│    └─ReLU: 2-17                        [1, 32, 16, 16]           --\n",
      "│    └─Dropout2d: 2-18                   [1, 32, 16, 16]           --\n",
      "│    └─DepthwiseSeparable: 2-19          [1, 32, 16, 16]           --\n",
      "│    │    └─Conv2d: 3-3                  [1, 32, 16, 16]           288\n",
      "│    │    └─Conv2d: 3-4                  [1, 32, 16, 16]           1,024\n",
      "│    └─BatchNorm2d: 2-20                 [1, 32, 16, 16]           64\n",
      "│    └─ReLU: 2-21                        [1, 32, 16, 16]           --\n",
      "│    └─Dropout2d: 2-22                   [1, 32, 16, 16]           --\n",
      "│    └─PoolWithDilation: 2-23            [1, 32, 8, 8]             --\n",
      "│    │    └─Conv2d: 3-5                  [1, 32, 12, 12]           9,216\n",
      "│    │    └─Conv2d: 3-6                  [1, 32, 8, 8]             9,216\n",
      "│    └─BatchNorm2d: 2-24                 [1, 32, 8, 8]             64\n",
      "│    └─ReLU: 2-25                        [1, 32, 8, 8]             --\n",
      "│    └─Dropout2d: 2-26                   [1, 32, 8, 8]             --\n",
      "├─Sequential: 1-4                        [1, 16, 8, 8]             --\n",
      "│    └─Conv2d: 2-27                      [1, 16, 8, 8]             512\n",
      "│    └─ReLU: 2-28                        [1, 16, 8, 8]             --\n",
      "├─Sequential: 1-5                        [1, 128, 8, 8]            --\n",
      "│    └─Conv2d: 2-29                      [1, 32, 8, 8]             4,608\n",
      "│    └─BatchNorm2d: 2-30                 [1, 32, 8, 8]             64\n",
      "│    └─ReLU: 2-31                        [1, 32, 8, 8]             --\n",
      "│    └─Dropout2d: 2-32                   [1, 32, 8, 8]             --\n",
      "│    └─DepthwiseSeparable: 2-33          [1, 64, 8, 8]             --\n",
      "│    │    └─Conv2d: 3-7                  [1, 32, 8, 8]             288\n",
      "│    │    └─Conv2d: 3-8                  [1, 64, 8, 8]             2,048\n",
      "│    └─BatchNorm2d: 2-34                 [1, 64, 8, 8]             128\n",
      "│    └─ReLU: 2-35                        [1, 64, 8, 8]             --\n",
      "│    └─Dropout2d: 2-36                   [1, 64, 8, 8]             --\n",
      "│    └─DepthwiseSeparable: 2-37          [1, 128, 8, 8]            --\n",
      "│    │    └─Conv2d: 3-9                  [1, 64, 8, 8]             576\n",
      "│    │    └─Conv2d: 3-10                 [1, 128, 8, 8]            8,192\n",
      "│    └─BatchNorm2d: 2-38                 [1, 128, 8, 8]            256\n",
      "│    └─ReLU: 2-39                        [1, 128, 8, 8]            --\n",
      "│    └─Dropout2d: 2-40                   [1, 128, 8, 8]            --\n",
      "├─Sequential: 1-6                        [1, 32, 8, 8]             --\n",
      "│    └─Conv2d: 2-41                      [1, 32, 8, 8]             4,096\n",
      "│    └─ReLU: 2-42                        [1, 32, 8, 8]             --\n",
      "├─Sequential: 1-7                        [1, 10, 1, 1]             --\n",
      "│    └─DepthwiseSeparable: 2-43          [1, 64, 6, 6]             --\n",
      "│    │    └─Conv2d: 3-11                 [1, 32, 6, 6]             288\n",
      "│    │    └─Conv2d: 3-12                 [1, 64, 6, 6]             2,048\n",
      "│    └─BatchNorm2d: 2-44                 [1, 64, 6, 6]             128\n",
      "│    └─ReLU: 2-45                        [1, 64, 6, 6]             --\n",
      "│    └─Dropout2d: 2-46                   [1, 64, 6, 6]             --\n",
      "│    └─DepthwiseSeparable: 2-47          [1, 64, 4, 4]             --\n",
      "│    │    └─Conv2d: 3-13                 [1, 64, 4, 4]             576\n",
      "│    │    └─Conv2d: 3-14                 [1, 64, 4, 4]             4,096\n",
      "│    └─BatchNorm2d: 2-48                 [1, 64, 4, 4]             128\n",
      "│    └─ReLU: 2-49                        [1, 64, 4, 4]             --\n",
      "│    └─Dropout2d: 2-50                   [1, 64, 4, 4]             --\n",
      "│    └─AvgPool2d: 2-51                   [1, 64, 1, 1]             --\n",
      "│    └─Conv2d: 2-52                      [1, 10, 1, 1]             640\n",
      "==========================================================================================\n",
      "Total params: 65,312\n",
      "Trainable params: 65,312\n",
      "Non-trainable params: 0\n",
      "Total mult-adds (M): 9.61\n",
      "==========================================================================================\n",
      "Input size (MB): 0.01\n",
      "Forward/backward pass size (MB): 2.25\n",
      "Params size (MB): 0.26\n",
      "Estimated Total Size (MB): 2.52\n",
      "==========================================================================================\n"
     ]
    }
   ],
   "source": [
    "model.summarize(device, (1, 3, 32, 32))"
   ]
  },
  {
   "cell_type": "code",
   "execution_count": 8,
   "metadata": {
    "colab": {
     "base_uri": "https://localhost:8080/"
    },
    "id": "ZSecODe9xhp7",
    "outputId": "0e541c77-6718-4ca0-fa4a-35fb60ba9314"
   },
   "outputs": [
    {
     "name": "stdout",
     "output_type": "stream",
     "text": [
      "Epoch 1\n"
     ]
    },
    {
     "name": "stderr",
     "output_type": "stream",
     "text": [
      "Train: Loss=1.6453 Batch_id=390 Accuracy=29.26: 100%|██████████| 391/391 [00:18<00:00, 21.40it/s]\n"
     ]
    },
    {
     "name": "stdout",
     "output_type": "stream",
     "text": [
      "Test set: Average loss: 1.5514, Accuracy: 4285/10000 (42.85%)\n",
      "\n",
      "Epoch 2\n"
     ]
    },
    {
     "name": "stderr",
     "output_type": "stream",
     "text": [
      "Train: Loss=1.4999 Batch_id=390 Accuracy=42.87: 100%|██████████| 391/391 [00:17<00:00, 22.73it/s]\n"
     ]
    },
    {
     "name": "stdout",
     "output_type": "stream",
     "text": [
      "Test set: Average loss: 1.3195, Accuracy: 5182/10000 (51.82%)\n",
      "\n",
      "Epoch 3\n"
     ]
    },
    {
     "name": "stderr",
     "output_type": "stream",
     "text": [
      "Train: Loss=1.4643 Batch_id=390 Accuracy=47.87: 100%|██████████| 391/391 [00:16<00:00, 23.52it/s]\n"
     ]
    },
    {
     "name": "stdout",
     "output_type": "stream",
     "text": [
      "Test set: Average loss: 1.3286, Accuracy: 5235/10000 (52.35%)\n",
      "\n",
      "Epoch 4\n"
     ]
    },
    {
     "name": "stderr",
     "output_type": "stream",
     "text": [
      "Train: Loss=1.0959 Batch_id=390 Accuracy=51.07: 100%|██████████| 391/391 [00:17<00:00, 21.95it/s]\n"
     ]
    },
    {
     "name": "stdout",
     "output_type": "stream",
     "text": [
      "Test set: Average loss: 1.2135, Accuracy: 5619/10000 (56.19%)\n",
      "\n",
      "Epoch 5\n"
     ]
    },
    {
     "name": "stderr",
     "output_type": "stream",
     "text": [
      "Train: Loss=1.3282 Batch_id=390 Accuracy=53.30: 100%|██████████| 391/391 [00:16<00:00, 23.41it/s]\n"
     ]
    },
    {
     "name": "stdout",
     "output_type": "stream",
     "text": [
      "Test set: Average loss: 1.0971, Accuracy: 6022/10000 (60.22%)\n",
      "\n",
      "Epoch 6\n"
     ]
    },
    {
     "name": "stderr",
     "output_type": "stream",
     "text": [
      "Train: Loss=1.2383 Batch_id=390 Accuracy=55.52: 100%|██████████| 391/391 [00:18<00:00, 20.68it/s]\n"
     ]
    },
    {
     "name": "stdout",
     "output_type": "stream",
     "text": [
      "Test set: Average loss: 1.0394, Accuracy: 6317/10000 (63.17%)\n",
      "\n",
      "Epoch 7\n"
     ]
    },
    {
     "name": "stderr",
     "output_type": "stream",
     "text": [
      "Train: Loss=1.2843 Batch_id=390 Accuracy=57.02: 100%|██████████| 391/391 [00:16<00:00, 23.27it/s]\n"
     ]
    },
    {
     "name": "stdout",
     "output_type": "stream",
     "text": [
      "Test set: Average loss: 1.0736, Accuracy: 6142/10000 (61.42%)\n",
      "\n",
      "Epoch 8\n"
     ]
    },
    {
     "name": "stderr",
     "output_type": "stream",
     "text": [
      "Train: Loss=1.2241 Batch_id=390 Accuracy=58.76: 100%|██████████| 391/391 [00:17<00:00, 21.91it/s]\n"
     ]
    },
    {
     "name": "stdout",
     "output_type": "stream",
     "text": [
      "Test set: Average loss: 0.9746, Accuracy: 6560/10000 (65.60%)\n",
      "\n",
      "Epoch 9\n"
     ]
    },
    {
     "name": "stderr",
     "output_type": "stream",
     "text": [
      "Train: Loss=1.3420 Batch_id=390 Accuracy=59.83: 100%|██████████| 391/391 [00:16<00:00, 23.61it/s]\n"
     ]
    },
    {
     "name": "stdout",
     "output_type": "stream",
     "text": [
      "Test set: Average loss: 1.1154, Accuracy: 6138/10000 (61.38%)\n",
      "\n",
      "Epoch 10\n"
     ]
    },
    {
     "name": "stderr",
     "output_type": "stream",
     "text": [
      "Train: Loss=0.9218 Batch_id=390 Accuracy=60.93: 100%|██████████| 391/391 [00:17<00:00, 22.74it/s]\n"
     ]
    },
    {
     "name": "stdout",
     "output_type": "stream",
     "text": [
      "Test set: Average loss: 1.0120, Accuracy: 6471/10000 (64.71%)\n",
      "\n",
      "Epoch 11\n"
     ]
    },
    {
     "name": "stderr",
     "output_type": "stream",
     "text": [
      "Train: Loss=1.1290 Batch_id=390 Accuracy=61.95: 100%|██████████| 391/391 [00:16<00:00, 23.59it/s]\n"
     ]
    },
    {
     "name": "stdout",
     "output_type": "stream",
     "text": [
      "Test set: Average loss: 0.8882, Accuracy: 6962/10000 (69.62%)\n",
      "\n",
      "Epoch 12\n"
     ]
    },
    {
     "name": "stderr",
     "output_type": "stream",
     "text": [
      "Train: Loss=1.0859 Batch_id=390 Accuracy=62.75: 100%|██████████| 391/391 [00:16<00:00, 23.56it/s]\n"
     ]
    },
    {
     "name": "stdout",
     "output_type": "stream",
     "text": [
      "Test set: Average loss: 0.8216, Accuracy: 7190/10000 (71.90%)\n",
      "\n",
      "Epoch 13\n"
     ]
    },
    {
     "name": "stderr",
     "output_type": "stream",
     "text": [
      "Train: Loss=0.8238 Batch_id=390 Accuracy=63.90: 100%|██████████| 391/391 [00:16<00:00, 23.39it/s]\n"
     ]
    },
    {
     "name": "stdout",
     "output_type": "stream",
     "text": [
      "Test set: Average loss: 0.8354, Accuracy: 7126/10000 (71.26%)\n",
      "\n",
      "Epoch 14\n"
     ]
    },
    {
     "name": "stderr",
     "output_type": "stream",
     "text": [
      "Train: Loss=0.8582 Batch_id=390 Accuracy=64.56: 100%|██████████| 391/391 [00:16<00:00, 23.54it/s]\n"
     ]
    },
    {
     "name": "stdout",
     "output_type": "stream",
     "text": [
      "Test set: Average loss: 0.8511, Accuracy: 7114/10000 (71.14%)\n",
      "\n",
      "Epoch 15\n"
     ]
    },
    {
     "name": "stderr",
     "output_type": "stream",
     "text": [
      "Train: Loss=0.8721 Batch_id=390 Accuracy=64.58: 100%|██████████| 391/391 [00:16<00:00, 23.43it/s]\n"
     ]
    },
    {
     "name": "stdout",
     "output_type": "stream",
     "text": [
      "Test set: Average loss: 0.7538, Accuracy: 7462/10000 (74.62%)\n",
      "\n",
      "Epoch 16\n"
     ]
    },
    {
     "name": "stderr",
     "output_type": "stream",
     "text": [
      "Train: Loss=0.8765 Batch_id=390 Accuracy=65.64: 100%|██████████| 391/391 [00:17<00:00, 21.97it/s]\n"
     ]
    },
    {
     "name": "stdout",
     "output_type": "stream",
     "text": [
      "Test set: Average loss: 0.7997, Accuracy: 7242/10000 (72.42%)\n",
      "\n",
      "Epoch 17\n"
     ]
    },
    {
     "name": "stderr",
     "output_type": "stream",
     "text": [
      "Train: Loss=0.8406 Batch_id=390 Accuracy=66.45: 100%|██████████| 391/391 [00:17<00:00, 21.82it/s]\n"
     ]
    },
    {
     "name": "stdout",
     "output_type": "stream",
     "text": [
      "Test set: Average loss: 0.8090, Accuracy: 7308/10000 (73.08%)\n",
      "\n",
      "Epoch 18\n"
     ]
    },
    {
     "name": "stderr",
     "output_type": "stream",
     "text": [
      "Train: Loss=0.8626 Batch_id=390 Accuracy=66.83: 100%|██████████| 391/391 [00:16<00:00, 23.57it/s]\n"
     ]
    },
    {
     "name": "stdout",
     "output_type": "stream",
     "text": [
      "Test set: Average loss: 0.7358, Accuracy: 7494/10000 (74.94%)\n",
      "\n",
      "Epoch 19\n"
     ]
    },
    {
     "name": "stderr",
     "output_type": "stream",
     "text": [
      "Train: Loss=1.0168 Batch_id=390 Accuracy=67.01: 100%|██████████| 391/391 [00:17<00:00, 22.13it/s]\n"
     ]
    },
    {
     "name": "stdout",
     "output_type": "stream",
     "text": [
      "Test set: Average loss: 0.7560, Accuracy: 7424/10000 (74.24%)\n",
      "\n",
      "Epoch 20\n"
     ]
    },
    {
     "name": "stderr",
     "output_type": "stream",
     "text": [
      "Train: Loss=0.7342 Batch_id=390 Accuracy=67.78: 100%|██████████| 391/391 [00:16<00:00, 23.57it/s]\n"
     ]
    },
    {
     "name": "stdout",
     "output_type": "stream",
     "text": [
      "Test set: Average loss: 0.7347, Accuracy: 7489/10000 (74.89%)\n",
      "\n",
      "Epoch 21\n"
     ]
    },
    {
     "name": "stderr",
     "output_type": "stream",
     "text": [
      "Train: Loss=1.1046 Batch_id=390 Accuracy=67.90: 100%|██████████| 391/391 [00:17<00:00, 22.36it/s]\n"
     ]
    },
    {
     "name": "stdout",
     "output_type": "stream",
     "text": [
      "Test set: Average loss: 0.8102, Accuracy: 7242/10000 (72.42%)\n",
      "\n",
      "Epoch 22\n"
     ]
    },
    {
     "name": "stderr",
     "output_type": "stream",
     "text": [
      "Train: Loss=0.9427 Batch_id=390 Accuracy=68.43: 100%|██████████| 391/391 [00:16<00:00, 23.65it/s]\n"
     ]
    },
    {
     "name": "stdout",
     "output_type": "stream",
     "text": [
      "Test set: Average loss: 0.7063, Accuracy: 7576/10000 (75.76%)\n",
      "\n",
      "Epoch 23\n"
     ]
    },
    {
     "name": "stderr",
     "output_type": "stream",
     "text": [
      "Train: Loss=0.8427 Batch_id=390 Accuracy=68.66: 100%|██████████| 391/391 [00:16<00:00, 23.08it/s]\n"
     ]
    },
    {
     "name": "stdout",
     "output_type": "stream",
     "text": [
      "Test set: Average loss: 0.7699, Accuracy: 7458/10000 (74.58%)\n",
      "\n",
      "Epoch 24\n"
     ]
    },
    {
     "name": "stderr",
     "output_type": "stream",
     "text": [
      "Train: Loss=0.7771 Batch_id=390 Accuracy=69.18: 100%|██████████| 391/391 [00:16<00:00, 23.52it/s]\n"
     ]
    },
    {
     "name": "stdout",
     "output_type": "stream",
     "text": [
      "Test set: Average loss: 0.7199, Accuracy: 7610/10000 (76.10%)\n",
      "\n",
      "Epoch 25\n"
     ]
    },
    {
     "name": "stderr",
     "output_type": "stream",
     "text": [
      "Train: Loss=0.8889 Batch_id=390 Accuracy=69.71: 100%|██████████| 391/391 [00:16<00:00, 23.54it/s]\n"
     ]
    },
    {
     "name": "stdout",
     "output_type": "stream",
     "text": [
      "Test set: Average loss: 0.7411, Accuracy: 7509/10000 (75.09%)\n",
      "\n",
      "Epoch 26\n"
     ]
    },
    {
     "name": "stderr",
     "output_type": "stream",
     "text": [
      "Train: Loss=0.8636 Batch_id=390 Accuracy=69.67: 100%|██████████| 391/391 [00:17<00:00, 22.24it/s]\n"
     ]
    },
    {
     "name": "stdout",
     "output_type": "stream",
     "text": [
      "Test set: Average loss: 0.7503, Accuracy: 7557/10000 (75.57%)\n",
      "\n",
      "Epoch 27\n"
     ]
    },
    {
     "name": "stderr",
     "output_type": "stream",
     "text": [
      "Train: Loss=0.8895 Batch_id=390 Accuracy=70.39: 100%|██████████| 391/391 [00:16<00:00, 23.59it/s]\n"
     ]
    },
    {
     "name": "stdout",
     "output_type": "stream",
     "text": [
      "Test set: Average loss: 0.6269, Accuracy: 7814/10000 (78.14%)\n",
      "\n",
      "Epoch 28\n"
     ]
    },
    {
     "name": "stderr",
     "output_type": "stream",
     "text": [
      "Train: Loss=0.9782 Batch_id=390 Accuracy=70.42: 100%|██████████| 391/391 [00:16<00:00, 23.66it/s]\n"
     ]
    },
    {
     "name": "stdout",
     "output_type": "stream",
     "text": [
      "Test set: Average loss: 0.6921, Accuracy: 7677/10000 (76.77%)\n",
      "\n",
      "Epoch 29\n"
     ]
    },
    {
     "name": "stderr",
     "output_type": "stream",
     "text": [
      "Train: Loss=0.6247 Batch_id=390 Accuracy=70.59: 100%|██████████| 391/391 [00:16<00:00, 23.43it/s]\n"
     ]
    },
    {
     "name": "stdout",
     "output_type": "stream",
     "text": [
      "Test set: Average loss: 0.7186, Accuracy: 7554/10000 (75.54%)\n",
      "\n",
      "Epoch 30\n"
     ]
    },
    {
     "name": "stderr",
     "output_type": "stream",
     "text": [
      "Train: Loss=1.0668 Batch_id=390 Accuracy=71.07: 100%|██████████| 391/391 [00:17<00:00, 22.88it/s]\n"
     ]
    },
    {
     "name": "stdout",
     "output_type": "stream",
     "text": [
      "Test set: Average loss: 0.6317, Accuracy: 7806/10000 (78.06%)\n",
      "\n",
      "Epoch 31\n"
     ]
    },
    {
     "name": "stderr",
     "output_type": "stream",
     "text": [
      "Train: Loss=0.8304 Batch_id=390 Accuracy=71.40: 100%|██████████| 391/391 [00:16<00:00, 23.72it/s]\n"
     ]
    },
    {
     "name": "stdout",
     "output_type": "stream",
     "text": [
      "Test set: Average loss: 0.6317, Accuracy: 7851/10000 (78.51%)\n",
      "\n",
      "Epoch 32\n"
     ]
    },
    {
     "name": "stderr",
     "output_type": "stream",
     "text": [
      "Train: Loss=0.8792 Batch_id=390 Accuracy=71.74: 100%|██████████| 391/391 [00:17<00:00, 22.29it/s]\n"
     ]
    },
    {
     "name": "stdout",
     "output_type": "stream",
     "text": [
      "Test set: Average loss: 0.6337, Accuracy: 7855/10000 (78.55%)\n",
      "\n",
      "Epoch 33\n"
     ]
    },
    {
     "name": "stderr",
     "output_type": "stream",
     "text": [
      "Train: Loss=0.9242 Batch_id=390 Accuracy=72.06: 100%|██████████| 391/391 [00:16<00:00, 23.47it/s]\n"
     ]
    },
    {
     "name": "stdout",
     "output_type": "stream",
     "text": [
      "Test set: Average loss: 0.6351, Accuracy: 7856/10000 (78.56%)\n",
      "\n",
      "Epoch 34\n"
     ]
    },
    {
     "name": "stderr",
     "output_type": "stream",
     "text": [
      "Train: Loss=1.0276 Batch_id=390 Accuracy=71.85: 100%|██████████| 391/391 [00:17<00:00, 21.99it/s]\n"
     ]
    },
    {
     "name": "stdout",
     "output_type": "stream",
     "text": [
      "Test set: Average loss: 0.6809, Accuracy: 7699/10000 (76.99%)\n",
      "\n",
      "Epoch 35\n"
     ]
    },
    {
     "name": "stderr",
     "output_type": "stream",
     "text": [
      "Train: Loss=1.0675 Batch_id=390 Accuracy=72.39: 100%|██████████| 391/391 [00:17<00:00, 22.05it/s]\n"
     ]
    },
    {
     "name": "stdout",
     "output_type": "stream",
     "text": [
      "Test set: Average loss: 0.6841, Accuracy: 7757/10000 (77.57%)\n",
      "\n",
      "Epoch 36\n"
     ]
    },
    {
     "name": "stderr",
     "output_type": "stream",
     "text": [
      "Train: Loss=0.7994 Batch_id=390 Accuracy=72.54: 100%|██████████| 391/391 [00:17<00:00, 21.96it/s]\n"
     ]
    },
    {
     "name": "stdout",
     "output_type": "stream",
     "text": [
      "Test set: Average loss: 0.5907, Accuracy: 8036/10000 (80.36%)\n",
      "\n",
      "Epoch 37\n"
     ]
    },
    {
     "name": "stderr",
     "output_type": "stream",
     "text": [
      "Train: Loss=0.7329 Batch_id=390 Accuracy=72.62: 100%|██████████| 391/391 [00:16<00:00, 23.72it/s]\n"
     ]
    },
    {
     "name": "stdout",
     "output_type": "stream",
     "text": [
      "Test set: Average loss: 0.6504, Accuracy: 7917/10000 (79.17%)\n",
      "\n",
      "Epoch 38\n"
     ]
    },
    {
     "name": "stderr",
     "output_type": "stream",
     "text": [
      "Train: Loss=0.6490 Batch_id=390 Accuracy=72.85: 100%|██████████| 391/391 [00:17<00:00, 21.81it/s]\n"
     ]
    },
    {
     "name": "stdout",
     "output_type": "stream",
     "text": [
      "Test set: Average loss: 0.6182, Accuracy: 7927/10000 (79.27%)\n",
      "\n",
      "Epoch 39\n"
     ]
    },
    {
     "name": "stderr",
     "output_type": "stream",
     "text": [
      "Train: Loss=1.0198 Batch_id=390 Accuracy=73.03: 100%|██████████| 391/391 [00:16<00:00, 23.19it/s]\n"
     ]
    },
    {
     "name": "stdout",
     "output_type": "stream",
     "text": [
      "Test set: Average loss: 0.6414, Accuracy: 7866/10000 (78.66%)\n",
      "\n",
      "Epoch 40\n"
     ]
    },
    {
     "name": "stderr",
     "output_type": "stream",
     "text": [
      "Train: Loss=0.8691 Batch_id=390 Accuracy=73.19: 100%|██████████| 391/391 [00:17<00:00, 21.90it/s]\n"
     ]
    },
    {
     "name": "stdout",
     "output_type": "stream",
     "text": [
      "Test set: Average loss: 0.6918, Accuracy: 7612/10000 (76.12%)\n",
      "\n",
      "Epoch 41\n"
     ]
    },
    {
     "name": "stderr",
     "output_type": "stream",
     "text": [
      "Train: Loss=0.8781 Batch_id=390 Accuracy=73.05: 100%|██████████| 391/391 [00:16<00:00, 23.20it/s]\n"
     ]
    },
    {
     "name": "stdout",
     "output_type": "stream",
     "text": [
      "Test set: Average loss: 0.5582, Accuracy: 8118/10000 (81.18%)\n",
      "\n",
      "Epoch 42\n"
     ]
    },
    {
     "name": "stderr",
     "output_type": "stream",
     "text": [
      "Train: Loss=0.8569 Batch_id=390 Accuracy=73.18: 100%|██████████| 391/391 [00:17<00:00, 22.68it/s]\n"
     ]
    },
    {
     "name": "stdout",
     "output_type": "stream",
     "text": [
      "Test set: Average loss: 0.7334, Accuracy: 7699/10000 (76.99%)\n",
      "\n",
      "Epoch 43\n"
     ]
    },
    {
     "name": "stderr",
     "output_type": "stream",
     "text": [
      "Train: Loss=0.7329 Batch_id=390 Accuracy=73.80: 100%|██████████| 391/391 [00:16<00:00, 23.38it/s]\n"
     ]
    },
    {
     "name": "stdout",
     "output_type": "stream",
     "text": [
      "Test set: Average loss: 0.5657, Accuracy: 8103/10000 (81.03%)\n",
      "\n",
      "Epoch 44\n"
     ]
    },
    {
     "name": "stderr",
     "output_type": "stream",
     "text": [
      "Train: Loss=0.9228 Batch_id=390 Accuracy=73.98: 100%|██████████| 391/391 [00:17<00:00, 23.00it/s]\n"
     ]
    },
    {
     "name": "stdout",
     "output_type": "stream",
     "text": [
      "Test set: Average loss: 0.6175, Accuracy: 7944/10000 (79.44%)\n",
      "\n",
      "Epoch 45\n"
     ]
    },
    {
     "name": "stderr",
     "output_type": "stream",
     "text": [
      "Train: Loss=0.8697 Batch_id=390 Accuracy=73.73: 100%|██████████| 391/391 [00:16<00:00, 23.43it/s]\n"
     ]
    },
    {
     "name": "stdout",
     "output_type": "stream",
     "text": [
      "Test set: Average loss: 0.5648, Accuracy: 8090/10000 (80.90%)\n",
      "\n",
      "Epoch 46\n"
     ]
    },
    {
     "name": "stderr",
     "output_type": "stream",
     "text": [
      "Train: Loss=0.7897 Batch_id=390 Accuracy=74.34: 100%|██████████| 391/391 [00:16<00:00, 23.05it/s]\n"
     ]
    },
    {
     "name": "stdout",
     "output_type": "stream",
     "text": [
      "Test set: Average loss: 0.5852, Accuracy: 8001/10000 (80.01%)\n",
      "\n",
      "Epoch 47\n"
     ]
    },
    {
     "name": "stderr",
     "output_type": "stream",
     "text": [
      "Train: Loss=0.7472 Batch_id=390 Accuracy=74.42: 100%|██████████| 391/391 [00:16<00:00, 23.30it/s]\n"
     ]
    },
    {
     "name": "stdout",
     "output_type": "stream",
     "text": [
      "Test set: Average loss: 0.6182, Accuracy: 7962/10000 (79.62%)\n",
      "\n",
      "Epoch 48\n"
     ]
    },
    {
     "name": "stderr",
     "output_type": "stream",
     "text": [
      "Train: Loss=0.7854 Batch_id=390 Accuracy=74.08: 100%|██████████| 391/391 [00:16<00:00, 23.65it/s]\n"
     ]
    },
    {
     "name": "stdout",
     "output_type": "stream",
     "text": [
      "Test set: Average loss: 0.5629, Accuracy: 8102/10000 (81.02%)\n",
      "\n",
      "Epoch 49\n"
     ]
    },
    {
     "name": "stderr",
     "output_type": "stream",
     "text": [
      "Train: Loss=0.7742 Batch_id=390 Accuracy=74.79: 100%|██████████| 391/391 [00:16<00:00, 23.29it/s]\n"
     ]
    },
    {
     "name": "stdout",
     "output_type": "stream",
     "text": [
      "Test set: Average loss: 0.5364, Accuracy: 8168/10000 (81.68%)\n",
      "\n",
      "Epoch 50\n"
     ]
    },
    {
     "name": "stderr",
     "output_type": "stream",
     "text": [
      "Train: Loss=0.8253 Batch_id=390 Accuracy=74.98: 100%|██████████| 391/391 [00:17<00:00, 21.79it/s]\n"
     ]
    },
    {
     "name": "stdout",
     "output_type": "stream",
     "text": [
      "Test set: Average loss: 0.5500, Accuracy: 8149/10000 (81.49%)\n",
      "\n",
      "Epoch 51\n"
     ]
    },
    {
     "name": "stderr",
     "output_type": "stream",
     "text": [
      "Train: Loss=0.6855 Batch_id=390 Accuracy=74.91: 100%|██████████| 391/391 [00:16<00:00, 23.32it/s]\n"
     ]
    },
    {
     "name": "stdout",
     "output_type": "stream",
     "text": [
      "Test set: Average loss: 0.5207, Accuracy: 8258/10000 (82.58%)\n",
      "\n",
      "Epoch 52\n"
     ]
    },
    {
     "name": "stderr",
     "output_type": "stream",
     "text": [
      "Train: Loss=0.5447 Batch_id=390 Accuracy=74.85: 100%|██████████| 391/391 [00:16<00:00, 23.21it/s]\n"
     ]
    },
    {
     "name": "stdout",
     "output_type": "stream",
     "text": [
      "Test set: Average loss: 0.5605, Accuracy: 8116/10000 (81.16%)\n",
      "\n",
      "Epoch 53\n"
     ]
    },
    {
     "name": "stderr",
     "output_type": "stream",
     "text": [
      "Train: Loss=0.5750 Batch_id=390 Accuracy=75.11: 100%|██████████| 391/391 [00:16<00:00, 23.48it/s]\n"
     ]
    },
    {
     "name": "stdout",
     "output_type": "stream",
     "text": [
      "Test set: Average loss: 0.5587, Accuracy: 8170/10000 (81.70%)\n",
      "\n",
      "Epoch 54\n"
     ]
    },
    {
     "name": "stderr",
     "output_type": "stream",
     "text": [
      "Train: Loss=0.6258 Batch_id=390 Accuracy=75.31: 100%|██████████| 391/391 [00:16<00:00, 23.38it/s]\n"
     ]
    },
    {
     "name": "stdout",
     "output_type": "stream",
     "text": [
      "Test set: Average loss: 0.5982, Accuracy: 7994/10000 (79.94%)\n",
      "\n",
      "Epoch 55\n"
     ]
    },
    {
     "name": "stderr",
     "output_type": "stream",
     "text": [
      "Train: Loss=0.5809 Batch_id=390 Accuracy=75.42: 100%|██████████| 391/391 [00:16<00:00, 23.10it/s]\n"
     ]
    },
    {
     "name": "stdout",
     "output_type": "stream",
     "text": [
      "Test set: Average loss: 0.5234, Accuracy: 8250/10000 (82.50%)\n",
      "\n",
      "Epoch 56\n"
     ]
    },
    {
     "name": "stderr",
     "output_type": "stream",
     "text": [
      "Train: Loss=0.6458 Batch_id=390 Accuracy=75.53: 100%|██████████| 391/391 [00:17<00:00, 22.94it/s]\n"
     ]
    },
    {
     "name": "stdout",
     "output_type": "stream",
     "text": [
      "Test set: Average loss: 0.5316, Accuracy: 8202/10000 (82.02%)\n",
      "\n",
      "Epoch 57\n"
     ]
    },
    {
     "name": "stderr",
     "output_type": "stream",
     "text": [
      "Train: Loss=0.6363 Batch_id=390 Accuracy=75.32: 100%|██████████| 391/391 [00:17<00:00, 22.97it/s]\n"
     ]
    },
    {
     "name": "stdout",
     "output_type": "stream",
     "text": [
      "Test set: Average loss: 0.5286, Accuracy: 8259/10000 (82.59%)\n",
      "\n",
      "Epoch 58\n"
     ]
    },
    {
     "name": "stderr",
     "output_type": "stream",
     "text": [
      "Train: Loss=0.9170 Batch_id=390 Accuracy=75.51: 100%|██████████| 391/391 [00:16<00:00, 23.06it/s]\n"
     ]
    },
    {
     "name": "stdout",
     "output_type": "stream",
     "text": [
      "Test set: Average loss: 0.5136, Accuracy: 8276/10000 (82.76%)\n",
      "\n",
      "Epoch 59\n"
     ]
    },
    {
     "name": "stderr",
     "output_type": "stream",
     "text": [
      "Train: Loss=0.7980 Batch_id=390 Accuracy=76.04: 100%|██████████| 391/391 [00:16<00:00, 23.31it/s]\n"
     ]
    },
    {
     "name": "stdout",
     "output_type": "stream",
     "text": [
      "Test set: Average loss: 0.5055, Accuracy: 8267/10000 (82.67%)\n",
      "\n",
      "Epoch 60\n"
     ]
    },
    {
     "name": "stderr",
     "output_type": "stream",
     "text": [
      "Train: Loss=0.8845 Batch_id=390 Accuracy=75.81: 100%|██████████| 391/391 [00:18<00:00, 21.22it/s]\n"
     ]
    },
    {
     "name": "stdout",
     "output_type": "stream",
     "text": [
      "Test set: Average loss: 0.5346, Accuracy: 8216/10000 (82.16%)\n",
      "\n",
      "Epoch 61\n"
     ]
    },
    {
     "name": "stderr",
     "output_type": "stream",
     "text": [
      "Train: Loss=0.8389 Batch_id=390 Accuracy=75.96: 100%|██████████| 391/391 [00:16<00:00, 23.08it/s]\n"
     ]
    },
    {
     "name": "stdout",
     "output_type": "stream",
     "text": [
      "Test set: Average loss: 0.5201, Accuracy: 8244/10000 (82.44%)\n",
      "\n",
      "Epoch 62\n"
     ]
    },
    {
     "name": "stderr",
     "output_type": "stream",
     "text": [
      "Train: Loss=0.6272 Batch_id=390 Accuracy=75.98: 100%|██████████| 391/391 [00:16<00:00, 23.02it/s]\n"
     ]
    },
    {
     "name": "stdout",
     "output_type": "stream",
     "text": [
      "Test set: Average loss: 0.5275, Accuracy: 8239/10000 (82.39%)\n",
      "\n",
      "Epoch 63\n"
     ]
    },
    {
     "name": "stderr",
     "output_type": "stream",
     "text": [
      "Train: Loss=0.6929 Batch_id=390 Accuracy=75.85: 100%|██████████| 391/391 [00:16<00:00, 23.01it/s]\n"
     ]
    },
    {
     "name": "stdout",
     "output_type": "stream",
     "text": [
      "Test set: Average loss: 0.5146, Accuracy: 8266/10000 (82.66%)\n",
      "\n",
      "Epoch 64\n"
     ]
    },
    {
     "name": "stderr",
     "output_type": "stream",
     "text": [
      "Train: Loss=0.7387 Batch_id=390 Accuracy=76.13: 100%|██████████| 391/391 [00:16<00:00, 23.01it/s]\n"
     ]
    },
    {
     "name": "stdout",
     "output_type": "stream",
     "text": [
      "Test set: Average loss: 0.5132, Accuracy: 8272/10000 (82.72%)\n",
      "\n",
      "Epoch 65\n"
     ]
    },
    {
     "name": "stderr",
     "output_type": "stream",
     "text": [
      "Train: Loss=0.8517 Batch_id=390 Accuracy=75.97: 100%|██████████| 391/391 [00:16<00:00, 23.11it/s]\n"
     ]
    },
    {
     "name": "stdout",
     "output_type": "stream",
     "text": [
      "Test set: Average loss: 0.5078, Accuracy: 8309/10000 (83.09%)\n",
      "\n",
      "Epoch 66\n"
     ]
    },
    {
     "name": "stderr",
     "output_type": "stream",
     "text": [
      "Train: Loss=0.6417 Batch_id=390 Accuracy=76.25: 100%|██████████| 391/391 [00:16<00:00, 23.11it/s]\n"
     ]
    },
    {
     "name": "stdout",
     "output_type": "stream",
     "text": [
      "Test set: Average loss: 0.4885, Accuracy: 8355/10000 (83.55%)\n",
      "\n",
      "Epoch 67\n"
     ]
    },
    {
     "name": "stderr",
     "output_type": "stream",
     "text": [
      "Train: Loss=0.7952 Batch_id=390 Accuracy=76.40: 100%|██████████| 391/391 [00:17<00:00, 22.32it/s]\n"
     ]
    },
    {
     "name": "stdout",
     "output_type": "stream",
     "text": [
      "Test set: Average loss: 0.4995, Accuracy: 8280/10000 (82.80%)\n",
      "\n",
      "Epoch 68\n"
     ]
    },
    {
     "name": "stderr",
     "output_type": "stream",
     "text": [
      "Train: Loss=0.7483 Batch_id=390 Accuracy=76.87: 100%|██████████| 391/391 [00:16<00:00, 23.20it/s]\n"
     ]
    },
    {
     "name": "stdout",
     "output_type": "stream",
     "text": [
      "Test set: Average loss: 0.4851, Accuracy: 8389/10000 (83.89%)\n",
      "\n",
      "Epoch 69\n"
     ]
    },
    {
     "name": "stderr",
     "output_type": "stream",
     "text": [
      "Train: Loss=0.7646 Batch_id=390 Accuracy=76.86: 100%|██████████| 391/391 [00:18<00:00, 21.13it/s]\n"
     ]
    },
    {
     "name": "stdout",
     "output_type": "stream",
     "text": [
      "Test set: Average loss: 0.4773, Accuracy: 8351/10000 (83.51%)\n",
      "\n",
      "Epoch 70\n"
     ]
    },
    {
     "name": "stderr",
     "output_type": "stream",
     "text": [
      "Train: Loss=0.8597 Batch_id=390 Accuracy=76.86: 100%|██████████| 391/391 [00:16<00:00, 23.34it/s]\n"
     ]
    },
    {
     "name": "stdout",
     "output_type": "stream",
     "text": [
      "Test set: Average loss: 0.4708, Accuracy: 8397/10000 (83.97%)\n",
      "\n",
      "Epoch 71\n"
     ]
    },
    {
     "name": "stderr",
     "output_type": "stream",
     "text": [
      "Train: Loss=0.6049 Batch_id=390 Accuracy=76.98: 100%|██████████| 391/391 [00:17<00:00, 21.92it/s]\n"
     ]
    },
    {
     "name": "stdout",
     "output_type": "stream",
     "text": [
      "Test set: Average loss: 0.5046, Accuracy: 8310/10000 (83.10%)\n",
      "\n",
      "Epoch 72\n"
     ]
    },
    {
     "name": "stderr",
     "output_type": "stream",
     "text": [
      "Train: Loss=0.7521 Batch_id=390 Accuracy=77.27: 100%|██████████| 391/391 [00:16<00:00, 23.11it/s]\n"
     ]
    },
    {
     "name": "stdout",
     "output_type": "stream",
     "text": [
      "Test set: Average loss: 0.4718, Accuracy: 8364/10000 (83.64%)\n",
      "\n",
      "Epoch 73\n"
     ]
    },
    {
     "name": "stderr",
     "output_type": "stream",
     "text": [
      "Train: Loss=0.6705 Batch_id=390 Accuracy=76.88: 100%|██████████| 391/391 [00:17<00:00, 21.79it/s]\n"
     ]
    },
    {
     "name": "stdout",
     "output_type": "stream",
     "text": [
      "Test set: Average loss: 0.4549, Accuracy: 8467/10000 (84.67%)\n",
      "\n",
      "Epoch 74\n"
     ]
    },
    {
     "name": "stderr",
     "output_type": "stream",
     "text": [
      "Train: Loss=0.6315 Batch_id=390 Accuracy=77.50: 100%|██████████| 391/391 [00:16<00:00, 23.40it/s]\n"
     ]
    },
    {
     "name": "stdout",
     "output_type": "stream",
     "text": [
      "Test set: Average loss: 0.4581, Accuracy: 8440/10000 (84.40%)\n",
      "\n",
      "Epoch 75\n"
     ]
    },
    {
     "name": "stderr",
     "output_type": "stream",
     "text": [
      "Train: Loss=0.4541 Batch_id=390 Accuracy=77.39: 100%|██████████| 391/391 [00:17<00:00, 21.99it/s]\n"
     ]
    },
    {
     "name": "stdout",
     "output_type": "stream",
     "text": [
      "Test set: Average loss: 0.4717, Accuracy: 8456/10000 (84.56%)\n",
      "\n",
      "Epoch 76\n"
     ]
    },
    {
     "name": "stderr",
     "output_type": "stream",
     "text": [
      "Train: Loss=0.6086 Batch_id=390 Accuracy=77.97: 100%|██████████| 391/391 [00:17<00:00, 23.00it/s]\n"
     ]
    },
    {
     "name": "stdout",
     "output_type": "stream",
     "text": [
      "Test set: Average loss: 0.4700, Accuracy: 8432/10000 (84.32%)\n",
      "\n",
      "Epoch 77\n"
     ]
    },
    {
     "name": "stderr",
     "output_type": "stream",
     "text": [
      "Train: Loss=0.6518 Batch_id=390 Accuracy=77.70: 100%|██████████| 391/391 [00:18<00:00, 21.67it/s]\n"
     ]
    },
    {
     "name": "stdout",
     "output_type": "stream",
     "text": [
      "Test set: Average loss: 0.4599, Accuracy: 8445/10000 (84.45%)\n",
      "\n",
      "Epoch 78\n"
     ]
    },
    {
     "name": "stderr",
     "output_type": "stream",
     "text": [
      "Train: Loss=0.5518 Batch_id=390 Accuracy=77.85: 100%|██████████| 391/391 [00:17<00:00, 22.93it/s]\n"
     ]
    },
    {
     "name": "stdout",
     "output_type": "stream",
     "text": [
      "Test set: Average loss: 0.4504, Accuracy: 8485/10000 (84.85%)\n",
      "\n",
      "Epoch 79\n"
     ]
    },
    {
     "name": "stderr",
     "output_type": "stream",
     "text": [
      "Train: Loss=0.7917 Batch_id=390 Accuracy=77.95: 100%|██████████| 391/391 [00:19<00:00, 20.37it/s]\n"
     ]
    },
    {
     "name": "stdout",
     "output_type": "stream",
     "text": [
      "Test set: Average loss: 0.4410, Accuracy: 8507/10000 (85.07%)\n",
      "\n",
      "Epoch 80\n"
     ]
    },
    {
     "name": "stderr",
     "output_type": "stream",
     "text": [
      "Train: Loss=0.7605 Batch_id=390 Accuracy=78.01: 100%|██████████| 391/391 [00:16<00:00, 23.19it/s]\n"
     ]
    },
    {
     "name": "stdout",
     "output_type": "stream",
     "text": [
      "Test set: Average loss: 0.4502, Accuracy: 8496/10000 (84.96%)\n",
      "\n",
      "Epoch 81\n"
     ]
    },
    {
     "name": "stderr",
     "output_type": "stream",
     "text": [
      "Train: Loss=0.7418 Batch_id=390 Accuracy=78.21: 100%|██████████| 391/391 [00:18<00:00, 21.65it/s]\n"
     ]
    },
    {
     "name": "stdout",
     "output_type": "stream",
     "text": [
      "Test set: Average loss: 0.4465, Accuracy: 8502/10000 (85.02%)\n",
      "\n",
      "Epoch 82\n"
     ]
    },
    {
     "name": "stderr",
     "output_type": "stream",
     "text": [
      "Train: Loss=0.5577 Batch_id=390 Accuracy=78.46: 100%|██████████| 391/391 [00:16<00:00, 23.33it/s]\n"
     ]
    },
    {
     "name": "stdout",
     "output_type": "stream",
     "text": [
      "Test set: Average loss: 0.4655, Accuracy: 8461/10000 (84.61%)\n",
      "\n",
      "Epoch 83\n"
     ]
    },
    {
     "name": "stderr",
     "output_type": "stream",
     "text": [
      "Train: Loss=0.5969 Batch_id=390 Accuracy=78.17: 100%|██████████| 391/391 [00:17<00:00, 22.66it/s]\n"
     ]
    },
    {
     "name": "stdout",
     "output_type": "stream",
     "text": [
      "Test set: Average loss: 0.4393, Accuracy: 8532/10000 (85.32%)\n",
      "\n",
      "Epoch 84\n"
     ]
    },
    {
     "name": "stderr",
     "output_type": "stream",
     "text": [
      "Train: Loss=0.7458 Batch_id=390 Accuracy=78.73: 100%|██████████| 391/391 [00:17<00:00, 22.97it/s]\n"
     ]
    },
    {
     "name": "stdout",
     "output_type": "stream",
     "text": [
      "Test set: Average loss: 0.4329, Accuracy: 8570/10000 (85.70%)\n",
      "\n",
      "Epoch 85\n"
     ]
    },
    {
     "name": "stderr",
     "output_type": "stream",
     "text": [
      "Train: Loss=0.7264 Batch_id=390 Accuracy=78.70: 100%|██████████| 391/391 [00:17<00:00, 22.78it/s]\n"
     ]
    },
    {
     "name": "stdout",
     "output_type": "stream",
     "text": [
      "Test set: Average loss: 0.4373, Accuracy: 8542/10000 (85.42%)\n",
      "\n",
      "Epoch 86\n"
     ]
    },
    {
     "name": "stderr",
     "output_type": "stream",
     "text": [
      "Train: Loss=0.7799 Batch_id=390 Accuracy=78.93: 100%|██████████| 391/391 [00:16<00:00, 23.48it/s]\n"
     ]
    },
    {
     "name": "stdout",
     "output_type": "stream",
     "text": [
      "Test set: Average loss: 0.4374, Accuracy: 8526/10000 (85.26%)\n",
      "\n",
      "Epoch 87\n"
     ]
    },
    {
     "name": "stderr",
     "output_type": "stream",
     "text": [
      "Train: Loss=0.5800 Batch_id=390 Accuracy=79.01: 100%|██████████| 391/391 [00:16<00:00, 23.30it/s]\n"
     ]
    },
    {
     "name": "stdout",
     "output_type": "stream",
     "text": [
      "Test set: Average loss: 0.4270, Accuracy: 8546/10000 (85.46%)\n",
      "\n",
      "Epoch 88\n"
     ]
    },
    {
     "name": "stderr",
     "output_type": "stream",
     "text": [
      "Train: Loss=0.7201 Batch_id=390 Accuracy=78.66: 100%|██████████| 391/391 [00:16<00:00, 23.44it/s]\n"
     ]
    },
    {
     "name": "stdout",
     "output_type": "stream",
     "text": [
      "Test set: Average loss: 0.4288, Accuracy: 8565/10000 (85.65%)\n",
      "\n",
      "Epoch 89\n"
     ]
    },
    {
     "name": "stderr",
     "output_type": "stream",
     "text": [
      "Train: Loss=0.4758 Batch_id=390 Accuracy=79.31: 100%|██████████| 391/391 [00:16<00:00, 23.53it/s]\n"
     ]
    },
    {
     "name": "stdout",
     "output_type": "stream",
     "text": [
      "Test set: Average loss: 0.4267, Accuracy: 8581/10000 (85.81%)\n",
      "\n",
      "Epoch 90\n"
     ]
    },
    {
     "name": "stderr",
     "output_type": "stream",
     "text": [
      "Train: Loss=0.3816 Batch_id=390 Accuracy=79.41: 100%|██████████| 391/391 [00:18<00:00, 21.57it/s]\n"
     ]
    },
    {
     "name": "stdout",
     "output_type": "stream",
     "text": [
      "Test set: Average loss: 0.4241, Accuracy: 8575/10000 (85.75%)\n",
      "\n",
      "Epoch 91\n"
     ]
    },
    {
     "name": "stderr",
     "output_type": "stream",
     "text": [
      "Train: Loss=0.4821 Batch_id=390 Accuracy=79.51: 100%|██████████| 391/391 [00:16<00:00, 23.57it/s]\n"
     ]
    },
    {
     "name": "stdout",
     "output_type": "stream",
     "text": [
      "Test set: Average loss: 0.4251, Accuracy: 8592/10000 (85.92%)\n",
      "\n",
      "Epoch 92\n"
     ]
    },
    {
     "name": "stderr",
     "output_type": "stream",
     "text": [
      "Train: Loss=0.5572 Batch_id=390 Accuracy=79.39: 100%|██████████| 391/391 [00:16<00:00, 23.16it/s]\n"
     ]
    },
    {
     "name": "stdout",
     "output_type": "stream",
     "text": [
      "Test set: Average loss: 0.4234, Accuracy: 8601/10000 (86.01%)\n",
      "\n",
      "Epoch 93\n"
     ]
    },
    {
     "name": "stderr",
     "output_type": "stream",
     "text": [
      "Train: Loss=0.6196 Batch_id=390 Accuracy=79.71: 100%|██████████| 391/391 [00:16<00:00, 23.46it/s]\n"
     ]
    },
    {
     "name": "stdout",
     "output_type": "stream",
     "text": [
      "Test set: Average loss: 0.4247, Accuracy: 8591/10000 (85.91%)\n",
      "\n",
      "Epoch 94\n"
     ]
    },
    {
     "name": "stderr",
     "output_type": "stream",
     "text": [
      "Train: Loss=0.6838 Batch_id=390 Accuracy=79.26: 100%|██████████| 391/391 [00:17<00:00, 22.55it/s]\n"
     ]
    },
    {
     "name": "stdout",
     "output_type": "stream",
     "text": [
      "Test set: Average loss: 0.4217, Accuracy: 8592/10000 (85.92%)\n",
      "\n",
      "Epoch 95\n"
     ]
    },
    {
     "name": "stderr",
     "output_type": "stream",
     "text": [
      "Train: Loss=0.4398 Batch_id=390 Accuracy=79.68: 100%|██████████| 391/391 [00:16<00:00, 23.30it/s]\n"
     ]
    },
    {
     "name": "stdout",
     "output_type": "stream",
     "text": [
      "Test set: Average loss: 0.4226, Accuracy: 8611/10000 (86.11%)\n",
      "\n",
      "Epoch 96\n"
     ]
    },
    {
     "name": "stderr",
     "output_type": "stream",
     "text": [
      "Train: Loss=0.6096 Batch_id=390 Accuracy=79.80: 100%|██████████| 391/391 [00:17<00:00, 22.63it/s]\n"
     ]
    },
    {
     "name": "stdout",
     "output_type": "stream",
     "text": [
      "Test set: Average loss: 0.4203, Accuracy: 8597/10000 (85.97%)\n",
      "\n",
      "Epoch 97\n"
     ]
    },
    {
     "name": "stderr",
     "output_type": "stream",
     "text": [
      "Train: Loss=0.5627 Batch_id=390 Accuracy=79.89: 100%|██████████| 391/391 [00:16<00:00, 23.67it/s]\n"
     ]
    },
    {
     "name": "stdout",
     "output_type": "stream",
     "text": [
      "Test set: Average loss: 0.4194, Accuracy: 8625/10000 (86.25%)\n",
      "\n",
      "Epoch 98\n"
     ]
    },
    {
     "name": "stderr",
     "output_type": "stream",
     "text": [
      "Train: Loss=0.5430 Batch_id=390 Accuracy=79.74: 100%|██████████| 391/391 [00:17<00:00, 22.07it/s]\n"
     ]
    },
    {
     "name": "stdout",
     "output_type": "stream",
     "text": [
      "Test set: Average loss: 0.4177, Accuracy: 8614/10000 (86.14%)\n",
      "\n",
      "Epoch 99\n"
     ]
    },
    {
     "name": "stderr",
     "output_type": "stream",
     "text": [
      "Train: Loss=0.6175 Batch_id=390 Accuracy=79.98: 100%|██████████| 391/391 [00:16<00:00, 23.79it/s]\n"
     ]
    },
    {
     "name": "stdout",
     "output_type": "stream",
     "text": [
      "Test set: Average loss: 0.4173, Accuracy: 8623/10000 (86.23%)\n",
      "\n",
      "Epoch 100\n"
     ]
    },
    {
     "name": "stderr",
     "output_type": "stream",
     "text": [
      "Train: Loss=0.4725 Batch_id=390 Accuracy=80.04: 100%|██████████| 391/391 [00:18<00:00, 20.59it/s]\n"
     ]
    },
    {
     "name": "stdout",
     "output_type": "stream",
     "text": [
      "Test set: Average loss: 0.4186, Accuracy: 8618/10000 (86.18%)\n",
      "\n"
     ]
    }
   ],
   "source": [
    "num_epochs = 100\n",
    "model = Net(drop=0.00).to(device)\n",
    "optimizer = optim.SGD(model.parameters(), lr=0.1, momentum=0.9)\n",
    "scheduler = optim.lr_scheduler.OneCycleLR(\n",
    "    optimizer, max_lr=0.1, epochs=num_epochs, steps_per_epoch=len(train_loader)\n",
    ")\n",
    "# scheduler = optim.lr_scheduler.StepLR(optimizer, step_size=15, gamma=0.1, verbose=True)\n",
    "# scheduler = None\n",
    "\n",
    "trainer = Trainer(model, device, optimizer, scheduler)\n",
    "for epoch in range(1, num_epochs + 1):\n",
    "    print(f\"Epoch {epoch}\")\n",
    "    trainer.train(train_loader)\n",
    "    trainer.test(test_loader)\n",
    "    # scheduler.step()"
   ]
  },
  {
   "cell_type": "code",
   "execution_count": 9,
   "metadata": {
    "colab": {
     "base_uri": "https://localhost:8080/",
     "height": 539
    },
    "id": "bFvg88ddXpgv",
    "outputId": "2795db4c-53a1-4eaa-cde6-f488e61fba67"
   },
   "outputs": [
    {
     "name": "stdout",
     "output_type": "stream",
     "text": [
      "Set\t Max Acc@Epoch\t Last Epoch Acc\n",
      "train\t 80.04@100\t\t80.04\n",
      "test\t 86.25@97\t\t86.18\n"
     ]
    },
    {
     "data": {
      "image/png": "[encoded data removed]",
      "text/plain": [
       "<Figure size 1400x500 with 2 Axes>"
      ]
     },
     "metadata": {},
     "output_type": "display_data"
    }
   ],
   "source": [
    "trainer.plot_history()"
   ]
  },
  {
   "cell_type": "code",
   "execution_count": 10,
   "metadata": {
    "colab": {
     "base_uri": "https://localhost:8080/",
     "height": 554
    },
    "id": "4t5jHL9MWe1A",
    "outputId": "c9de7314-a505-4c03-ec51-64b280c17706"
   },
   "outputs": [
    {
     "data": {
      "image/png": "[encoded data removed]",
      "text/plain": [
       "<Figure size 1500x600 with 10 Axes>"
      ]
     },
     "metadata": {},
     "output_type": "display_data"
    }
   ],
   "source": [
    "from dataset import make_transform\n",
    "\n",
    "test_transforms = make_transform(\"test\")\n",
    "plot_misclassified(model, test_loader, device, test_transforms)"
   ]
  },
  {
   "cell_type": "code",
   "execution_count": 11,
   "metadata": {
    "colab": {
     "base_uri": "https://localhost:8080/"
    },
    "id": "sk4FsS1DYQ8E",
    "outputId": "203dee3d-c610-4c85-b142-5be65d28af87"
   },
   "outputs": [
    {
     "name": "stdout",
     "output_type": "stream",
     "text": [
      "[x] Accuracy of ::\n",
      "\t[*] airplane : 88 %\n",
      "\t[*] automobile : 96 %\n",
      "\t[*]     bird : 81 %\n",
      "\t[*]      cat : 73 %\n",
      "\t[*]     deer : 78 %\n",
      "\t[*]      dog : 80 %\n",
      "\t[*]     frog : 91 %\n",
      "\t[*]    horse : 88 %\n",
      "\t[*]     ship : 94 %\n",
      "\t[*]    truck : 91 %\n"
     ]
    }
   ],
   "source": [
    "per_class_accuracy(model, device, test_loader)"
   ]
  },
  {
   "cell_type": "code",
   "execution_count": null,
   "metadata": {
    "id": "AsumxflQuF1z"
   },
   "outputs": [],
   "source": []
  }
 ],
 "metadata": {
  "accelerator": "GPU",
  "colab": {
   "provenance": []
  },
  "kernelspec": {
   "display_name": "Python 3",
   "name": "python3"
  },
  "language_info": {
   "name": "python"
  }
 },
 "nbformat": 4,
 "nbformat_minor": 0
}
