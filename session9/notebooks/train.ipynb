{
 "cells": [
  {
   "cell_type": "code",
   "execution_count": null,
   "metadata": {
    "colab": {
     "base_uri": "https://localhost:8080/"
    },
    "id": "XFwb3Nc6tWMk",
    "outputId": "9b5532fc-9278-44ac-daf4-f93ad0340d1e"
   },
   "outputs": [],
   "source": [
    "!pip install torchinfo"
   ]
  },
  {
   "cell_type": "code",
   "execution_count": null,
   "metadata": {
    "colab": {
     "base_uri": "https://localhost:8080/"
    },
    "id": "Mv9JCB8U-hgc",
    "outputId": "1d393ecc-31e6-4ba4-b131-802e49688350"
   },
   "outputs": [],
   "source": [
    "!git clone https://github.com/anantgupta129/ERA-V1.git"
   ]
  },
  {
   "cell_type": "code",
   "execution_count": null,
   "metadata": {
    "colab": {
     "base_uri": "https://localhost:8080/"
    },
    "id": "SQdX0Es--rvR",
    "outputId": "b45e3476-4abe-465f-a1ba-7f8b31707c07"
   },
   "outputs": [],
   "source": [
    "# !rm -rf /content/ERA-V1\n",
    "%cd ERA-V1/session9"
   ]
  },
  {
   "cell_type": "code",
   "execution_count": null,
   "metadata": {
    "id": "Y5KS59oktNpG"
   },
   "outputs": [],
   "source": [
    "import torch\n",
    "import torch.optim as optim\n",
    "from dataset import build_cifar\n",
    "from models import Net\n",
    "from torchvision import transforms as T\n",
    "from utils import Trainer, per_class_accuracy, plot_misclassified, plot_sampledata"
   ]
  },
  {
   "attachments": {},
   "cell_type": "markdown",
   "metadata": {
    "id": "mr7JT8Aytioi"
   },
   "source": [
    "# Load Data"
   ]
  },
  {
   "cell_type": "code",
   "execution_count": null,
   "metadata": {
    "colab": {
     "base_uri": "https://localhost:8080/"
    },
    "id": "GPfRDRpZACDu",
    "outputId": "87a1ab4c-f8a7-4bbe-db40-b8d686fb3895"
   },
   "outputs": [],
   "source": [
    "batch_size = 128\n",
    "\n",
    "kwargs = {\n",
    "    \"batch_size\": batch_size,\n",
    "    \"shuffle\": True,\n",
    "    \"num_workers\": 2,\n",
    "    \"pin_memory\": True,\n",
    "}\n",
    "\n",
    "train_loader = build_cifar(set=\"train\", **kwargs)\n",
    "test_loader = build_cifar(set=\"test\", **kwargs)"
   ]
  },
  {
   "cell_type": "code",
   "execution_count": null,
   "metadata": {
    "colab": {
     "base_uri": "https://localhost:8080/"
    },
    "id": "a5Fpmv0Ctzrr",
    "outputId": "49ad9d4e-fda5-4d06-e59d-755d3964044d"
   },
   "outputs": [],
   "source": [
    "use_cuda = torch.cuda.is_available()\n",
    "device = torch.device(\"cuda\" if use_cuda else \"cpu\")\n",
    "print(device)\n",
    "model = Net().to(device)"
   ]
  },
  {
   "cell_type": "code",
   "execution_count": null,
   "metadata": {
    "colab": {
     "base_uri": "https://localhost:8080/"
    },
    "id": "ZQX5zpwMxgoo",
    "outputId": "1a52912d-edcf-43fe-bfc6-deeb0b028cfe"
   },
   "outputs": [],
   "source": [
    "model.summarize(device, (1, 3, 32, 32))"
   ]
  },
  {
   "cell_type": "code",
   "execution_count": null,
   "metadata": {
    "colab": {
     "base_uri": "https://localhost:8080/"
    },
    "id": "ZSecODe9xhp7",
    "outputId": "0e541c77-6718-4ca0-fa4a-35fb60ba9314"
   },
   "outputs": [],
   "source": [
    "num_epochs = 100\n",
    "model = Net(drop=0.00).to(device)\n",
    "optimizer = optim.SGD(model.parameters(), lr=0.1, momentum=0.9)\n",
    "scheduler = optim.lr_scheduler.OneCycleLR(\n",
    "    optimizer, max_lr=0.1, epochs=num_epochs, steps_per_epoch=len(train_loader)\n",
    ")\n",
    "# scheduler = optim.lr_scheduler.StepLR(optimizer, step_size=15, gamma=0.1, verbose=True)\n",
    "# scheduler = None\n",
    "\n",
    "trainer = Trainer(model, device, optimizer, scheduler)\n",
    "for epoch in range(1, num_epochs + 1):\n",
    "    print(f\"Epoch {epoch}\")\n",
    "    trainer.train(train_loader)\n",
    "    trainer.test(test_loader)\n",
    "    # scheduler.step()"
   ]
  },
  {
   "cell_type": "code",
   "execution_count": null,
   "metadata": {
    "colab": {
     "base_uri": "https://localhost:8080/",
     "height": 539
    },
    "id": "bFvg88ddXpgv",
    "outputId": "2795db4c-53a1-4eaa-cde6-f488e61fba67"
   },
   "outputs": [],
   "source": [
    "trainer.plot_history()"
   ]
  },
  {
   "cell_type": "code",
   "execution_count": null,
   "metadata": {
    "colab": {
     "base_uri": "https://localhost:8080/",
     "height": 554
    },
    "id": "4t5jHL9MWe1A",
    "outputId": "c9de7314-a505-4c03-ec51-64b280c17706"
   },
   "outputs": [],
   "source": [
    "from dataset import make_transform\n",
    "\n",
    "test_transforms = make_transform(\"test\")\n",
    "plot_misclassified(model, test_loader, device, test_transforms)"
   ]
  },
  {
   "cell_type": "code",
   "execution_count": null,
   "metadata": {
    "colab": {
     "base_uri": "https://localhost:8080/"
    },
    "id": "sk4FsS1DYQ8E",
    "outputId": "203dee3d-c610-4c85-b142-5be65d28af87"
   },
   "outputs": [],
   "source": [
    "per_class_accuracy(model, device, test_loader)"
   ]
  },
  {
   "cell_type": "code",
   "execution_count": null,
   "metadata": {
    "id": "AsumxflQuF1z"
   },
   "outputs": [],
   "source": []
  }
 ],
 "metadata": {
  "accelerator": "GPU",
  "colab": {
   "provenance": []
  },
  "kernelspec": {
   "display_name": "Python 3",
   "name": "python3"
  },
  "language_info": {
   "name": "python"
  }
 },
 "nbformat": 4,
 "nbformat_minor": 0
}
