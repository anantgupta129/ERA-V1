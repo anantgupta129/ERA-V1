{
 "cells": [
  {
   "cell_type": "code",
   "execution_count": 1,
   "metadata": {},
   "outputs": [],
   "source": [
    "import torch\n",
    "from torchvision import transforms as T\n",
    "\n",
    "import torch.optim as optim\n",
    "\n",
    "from models.heavy import Net\n",
    "from dataset import build_cifar\n",
    "from utils import Trainer, plot_sampledata, plot_misclassified"
   ]
  },
  {
   "cell_type": "code",
   "execution_count": 2,
   "metadata": {},
   "outputs": [],
   "source": [
    "use_cuda = torch.cuda.is_available()\n",
    "device = torch.device(\"cuda\" if use_cuda else \"cpu\")\n",
    "model = Net().to(device)"
   ]
  },
  {
   "cell_type": "code",
   "execution_count": 3,
   "metadata": {},
   "outputs": [
    {
     "data": {
      "text/plain": [
       "tensor([[-2.6503, -2.1783, -2.2447, -2.0081, -2.6287, -2.2692, -2.1612, -2.1531,\n",
       "         -2.5322, -2.4129]], device='cuda:0', grad_fn=<LogSoftmaxBackward0>)"
      ]
     },
     "execution_count": 3,
     "metadata": {},
     "output_type": "execute_result"
    }
   ],
   "source": [
    "model(torch.rand(1,3,32,32, device=device))"
   ]
  },
  {
   "cell_type": "code",
   "execution_count": 5,
   "metadata": {},
   "outputs": [
    {
     "name": "stdout",
     "output_type": "stream",
     "text": [
      "==========================================================================================\n",
      "Layer (type:depth-idx)                   Output Shape              Param #\n",
      "==========================================================================================\n",
      "Net                                      [1, 10]                   --\n",
      "├─Sequential: 1-1                        [1, 32, 16, 16]           --\n",
      "│    └─Conv2d: 2-1                       [1, 32, 32, 32]           864\n",
      "│    └─BatchNorm2d: 2-2                  [1, 32, 32, 32]           64\n",
      "│    └─ReLU: 2-3                         [1, 32, 32, 32]           --\n",
      "│    └─Dropout2d: 2-4                    [1, 32, 32, 32]           --\n",
      "│    └─DepthwiseSeparable: 2-5           [1, 32, 32, 32]           --\n",
      "│    │    └─Conv2d: 3-1                  [1, 32, 32, 32]           288\n",
      "│    │    └─Conv2d: 3-2                  [1, 32, 32, 32]           1,024\n",
      "│    └─BatchNorm2d: 2-6                  [1, 32, 32, 32]           64\n",
      "│    └─ReLU: 2-7                         [1, 32, 32, 32]           --\n",
      "│    └─Dropout2d: 2-8                    [1, 32, 32, 32]           --\n",
      "│    └─Conv2d: 2-9                       [1, 32, 16, 16]           9,216\n",
      "│    └─BatchNorm2d: 2-10                 [1, 32, 16, 16]           64\n",
      "│    └─ReLU: 2-11                        [1, 32, 16, 16]           --\n",
      "│    └─Dropout2d: 2-12                   [1, 32, 16, 16]           --\n",
      "├─Sequential: 1-2                        [1, 16, 16, 16]           --\n",
      "│    └─Conv2d: 2-13                      [1, 16, 16, 16]           512\n",
      "│    └─ReLU: 2-14                        [1, 16, 16, 16]           --\n",
      "├─Sequential: 1-3                        [1, 32, 8, 8]             --\n",
      "│    └─Conv2d: 2-15                      [1, 32, 16, 16]           4,608\n",
      "│    └─BatchNorm2d: 2-16                 [1, 32, 16, 16]           64\n",
      "│    └─ReLU: 2-17                        [1, 32, 16, 16]           --\n",
      "│    └─Dropout2d: 2-18                   [1, 32, 16, 16]           --\n",
      "│    └─DepthwiseSeparable: 2-19          [1, 32, 16, 16]           --\n",
      "│    │    └─Conv2d: 3-3                  [1, 32, 16, 16]           288\n",
      "│    │    └─Conv2d: 3-4                  [1, 32, 16, 16]           1,024\n",
      "│    └─BatchNorm2d: 2-20                 [1, 32, 16, 16]           64\n",
      "│    └─ReLU: 2-21                        [1, 32, 16, 16]           --\n",
      "│    └─Dropout2d: 2-22                   [1, 32, 16, 16]           --\n",
      "│    └─PoolWithDilation: 2-23            [1, 32, 8, 8]             --\n",
      "│    │    └─Conv2d: 3-5                  [1, 32, 12, 12]           9,216\n",
      "│    │    └─Conv2d: 3-6                  [1, 32, 8, 8]             9,216\n",
      "│    └─BatchNorm2d: 2-24                 [1, 32, 8, 8]             64\n",
      "│    └─ReLU: 2-25                        [1, 32, 8, 8]             --\n",
      "│    └─Dropout2d: 2-26                   [1, 32, 8, 8]             --\n",
      "├─Sequential: 1-4                        [1, 256, 8, 8]            --\n",
      "│    └─DepthwiseSeparable: 2-27          [1, 64, 8, 8]             --\n",
      "│    │    └─Conv2d: 3-7                  [1, 32, 8, 8]             288\n",
      "│    │    └─Conv2d: 3-8                  [1, 64, 8, 8]             2,048\n",
      "│    └─BatchNorm2d: 2-28                 [1, 64, 8, 8]             128\n",
      "│    └─ReLU: 2-29                        [1, 64, 8, 8]             --\n",
      "│    └─Dropout2d: 2-30                   [1, 64, 8, 8]             --\n",
      "│    └─DepthwiseSeparable: 2-31          [1, 128, 8, 8]            --\n",
      "│    │    └─Conv2d: 3-9                  [1, 64, 8, 8]             576\n",
      "│    │    └─Conv2d: 3-10                 [1, 128, 8, 8]            8,192\n",
      "│    └─BatchNorm2d: 2-32                 [1, 128, 8, 8]            256\n",
      "│    └─ReLU: 2-33                        [1, 128, 8, 8]            --\n",
      "│    └─Dropout2d: 2-34                   [1, 128, 8, 8]            --\n",
      "│    └─DepthwiseSeparable: 2-35          [1, 256, 8, 8]            --\n",
      "│    │    └─Conv2d: 3-11                 [1, 128, 8, 8]            1,152\n",
      "│    │    └─Conv2d: 3-12                 [1, 256, 8, 8]            32,768\n",
      "│    └─BatchNorm2d: 2-36                 [1, 256, 8, 8]            512\n",
      "│    └─ReLU: 2-37                        [1, 256, 8, 8]            --\n",
      "│    └─Dropout2d: 2-38                   [1, 256, 8, 8]            --\n",
      "├─Sequential: 1-5                        [1, 64, 8, 8]             --\n",
      "│    └─Conv2d: 2-39                      [1, 64, 8, 8]             16,384\n",
      "│    └─ReLU: 2-40                        [1, 64, 8, 8]             --\n",
      "├─Sequential: 1-6                        [1, 10, 1, 1]             --\n",
      "│    └─DepthwiseSeparable: 2-41          [1, 128, 6, 6]            --\n",
      "│    │    └─Conv2d: 3-13                 [1, 64, 6, 6]             576\n",
      "│    │    └─Conv2d: 3-14                 [1, 128, 6, 6]            8,192\n",
      "│    └─BatchNorm2d: 2-42                 [1, 128, 6, 6]            256\n",
      "│    └─ReLU: 2-43                        [1, 128, 6, 6]            --\n",
      "│    └─Dropout2d: 2-44                   [1, 128, 6, 6]            --\n",
      "│    └─DepthwiseSeparable: 2-45          [1, 256, 4, 4]            --\n",
      "│    │    └─Conv2d: 3-15                 [1, 128, 4, 4]            1,152\n",
      "│    │    └─Conv2d: 3-16                 [1, 256, 4, 4]            32,768\n",
      "│    └─BatchNorm2d: 2-46                 [1, 256, 4, 4]            512\n",
      "│    └─ReLU: 2-47                        [1, 256, 4, 4]            --\n",
      "│    └─Dropout2d: 2-48                   [1, 256, 4, 4]            --\n",
      "│    └─AvgPool2d: 2-49                   [1, 256, 1, 1]            --\n",
      "│    └─Conv2d: 2-50                      [1, 10, 1, 1]             2,560\n",
      "==========================================================================================\n",
      "Total params: 144,960\n",
      "Trainable params: 144,960\n",
      "Non-trainable params: 0\n",
      "Total mult-adds (M): 12.94\n",
      "==========================================================================================\n",
      "Input size (MB): 0.01\n",
      "Forward/backward pass size (MB): 2.65\n",
      "Params size (MB): 0.58\n",
      "Estimated Total Size (MB): 3.24\n",
      "==========================================================================================\n"
     ]
    }
   ],
   "source": [
    "model.summarize(device, (1, 3, 32, 32))\n"
   ]
  },
  {
   "cell_type": "code",
   "execution_count": null,
   "metadata": {},
   "outputs": [],
   "source": []
  }
 ],
 "metadata": {
  "kernelspec": {
   "display_name": "base",
   "language": "python",
   "name": "python3"
  },
  "language_info": {
   "codemirror_mode": {
    "name": "ipython",
    "version": 3
   },
   "file_extension": ".py",
   "mimetype": "text/x-python",
   "name": "python",
   "nbconvert_exporter": "python",
   "pygments_lexer": "ipython3",
   "version": "3.10.10"
  },
  "orig_nbformat": 4
 },
 "nbformat": 4,
 "nbformat_minor": 2
}
