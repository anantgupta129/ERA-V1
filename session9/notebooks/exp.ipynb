{
 "cells": [
  {
   "cell_type": "code",
   "execution_count": 1,
   "metadata": {},
   "outputs": [
    {
     "name": "stdout",
     "output_type": "stream",
     "text": [
      "c:\\Users\\anant\\Documents\\dev\\ERA-V1\\session9\n"
     ]
    }
   ],
   "source": [
    "%cd .."
   ]
  },
  {
   "cell_type": "code",
   "execution_count": 2,
   "metadata": {},
   "outputs": [],
   "source": [
    "import torch\n",
    "from torchvision import transforms as T\n",
    "\n",
    "import torch.optim as optim\n",
    "\n",
    "from models import Net\n",
    "from dataset import build_cifar\n",
    "from utils import Trainer, plot_sampledata, plot_misclassified"
   ]
  },
  {
   "cell_type": "code",
   "execution_count": 3,
   "metadata": {},
   "outputs": [],
   "source": [
    "use_cuda = torch.cuda.is_available()\n",
    "device = torch.device(\"cuda\" if use_cuda else \"cpu\")\n",
    "model = Net().to(device)"
   ]
  },
  {
   "cell_type": "code",
   "execution_count": 4,
   "metadata": {},
   "outputs": [
    {
     "data": {
      "text/plain": [
       "tensor([[-2.3146, -2.3416, -2.4217, -2.3081, -2.6002, -1.9653, -2.2164, -2.1617,\n",
       "         -2.7194, -2.1859]], device='cuda:0', grad_fn=<LogSoftmaxBackward0>)"
      ]
     },
     "execution_count": 4,
     "metadata": {},
     "output_type": "execute_result"
    }
   ],
   "source": [
    "model(torch.rand(1, 3, 32, 32, device=device))"
   ]
  },
  {
   "cell_type": "code",
   "execution_count": 5,
   "metadata": {},
   "outputs": [
    {
     "name": "stdout",
     "output_type": "stream",
     "text": [
      "==========================================================================================\n",
      "Layer (type:depth-idx)                   Output Shape              Param #\n",
      "==========================================================================================\n",
      "Net                                      [1, 10]                   --\n",
      "├─Sequential: 1-1                        [1, 32, 16, 16]           --\n",
      "│    └─Conv2d: 2-1                       [1, 32, 32, 32]           864\n",
      "│    └─BatchNorm2d: 2-2                  [1, 32, 32, 32]           64\n",
      "│    └─ReLU: 2-3                         [1, 32, 32, 32]           --\n",
      "│    └─Dropout2d: 2-4                    [1, 32, 32, 32]           --\n",
      "│    └─Conv2d: 2-5                       [1, 32, 32, 32]           9,216\n",
      "│    └─BatchNorm2d: 2-6                  [1, 32, 32, 32]           64\n",
      "│    └─ReLU: 2-7                         [1, 32, 32, 32]           --\n",
      "│    └─Dropout2d: 2-8                    [1, 32, 32, 32]           --\n",
      "│    └─Conv2d: 2-9                       [1, 32, 16, 16]           9,216\n",
      "│    └─BatchNorm2d: 2-10                 [1, 32, 16, 16]           64\n",
      "│    └─ReLU: 2-11                        [1, 32, 16, 16]           --\n",
      "│    └─Dropout2d: 2-12                   [1, 32, 16, 16]           --\n",
      "├─Sequential: 1-2                        [1, 16, 16, 16]           --\n",
      "│    └─Conv2d: 2-13                      [1, 16, 16, 16]           512\n",
      "│    └─ReLU: 2-14                        [1, 16, 16, 16]           --\n",
      "├─Sequential: 1-3                        [1, 64, 8, 8]             --\n",
      "│    └─Conv2d: 2-15                      [1, 32, 16, 16]           4,608\n",
      "│    └─BatchNorm2d: 2-16                 [1, 32, 16, 16]           64\n",
      "│    └─ReLU: 2-17                        [1, 32, 16, 16]           --\n",
      "│    └─Dropout2d: 2-18                   [1, 32, 16, 16]           --\n",
      "│    └─Conv2d: 2-19                      [1, 64, 16, 16]           18,432\n",
      "│    └─BatchNorm2d: 2-20                 [1, 64, 16, 16]           128\n",
      "│    └─ReLU: 2-21                        [1, 64, 16, 16]           --\n",
      "│    └─Dropout2d: 2-22                   [1, 64, 16, 16]           --\n",
      "│    └─PoolWithDilation: 2-23            [1, 64, 8, 8]             --\n",
      "│    │    └─Conv2d: 3-1                  [1, 64, 12, 12]           36,864\n",
      "│    │    └─Conv2d: 3-2                  [1, 64, 8, 8]             36,864\n",
      "│    └─BatchNorm2d: 2-24                 [1, 64, 8, 8]             128\n",
      "│    └─ReLU: 2-25                        [1, 64, 8, 8]             --\n",
      "│    └─Dropout2d: 2-26                   [1, 64, 8, 8]             --\n",
      "├─Sequential: 1-4                        [1, 16, 8, 8]             --\n",
      "│    └─Conv2d: 2-27                      [1, 16, 8, 8]             1,024\n",
      "│    └─ReLU: 2-28                        [1, 16, 8, 8]             --\n",
      "├─Sequential: 1-5                        [1, 64, 6, 6]             --\n",
      "│    └─Conv2d: 2-29                      [1, 32, 8, 8]             4,608\n",
      "│    └─BatchNorm2d: 2-30                 [1, 32, 8, 8]             64\n",
      "│    └─ReLU: 2-31                        [1, 32, 8, 8]             --\n",
      "│    └─Dropout2d: 2-32                   [1, 32, 8, 8]             --\n",
      "│    └─DepthwiseSeparable: 2-33          [1, 64, 8, 8]             --\n",
      "│    │    └─Conv2d: 3-3                  [1, 32, 8, 8]             288\n",
      "│    │    └─Conv2d: 3-4                  [1, 64, 8, 8]             2,048\n",
      "│    └─BatchNorm2d: 2-34                 [1, 64, 8, 8]             128\n",
      "│    └─ReLU: 2-35                        [1, 64, 8, 8]             --\n",
      "│    └─Dropout2d: 2-36                   [1, 64, 8, 8]             --\n",
      "│    └─Conv2d: 2-37                      [1, 64, 6, 6]             36,928\n",
      "│    └─BatchNorm2d: 2-38                 [1, 64, 6, 6]             128\n",
      "│    └─ReLU: 2-39                        [1, 64, 6, 6]             --\n",
      "│    └─Dropout2d: 2-40                   [1, 64, 6, 6]             --\n",
      "├─Sequential: 1-6                        [1, 16, 6, 6]             --\n",
      "│    └─Conv2d: 2-41                      [1, 16, 6, 6]             1,024\n",
      "│    └─ReLU: 2-42                        [1, 16, 6, 6]             --\n",
      "├─Sequential: 1-7                        [1, 10, 1, 1]             --\n",
      "│    └─DepthwiseSeparable: 2-43          [1, 32, 6, 6]             --\n",
      "│    │    └─Conv2d: 3-5                  [1, 16, 6, 6]             144\n",
      "│    │    └─Conv2d: 3-6                  [1, 32, 6, 6]             512\n",
      "│    └─BatchNorm2d: 2-44                 [1, 32, 6, 6]             64\n",
      "│    └─ReLU: 2-45                        [1, 32, 6, 6]             --\n",
      "│    └─Dropout2d: 2-46                   [1, 32, 6, 6]             --\n",
      "│    └─Conv2d: 2-47                      [1, 64, 4, 4]             18,432\n",
      "│    └─BatchNorm2d: 2-48                 [1, 64, 4, 4]             128\n",
      "│    └─ReLU: 2-49                        [1, 64, 4, 4]             --\n",
      "│    └─Dropout2d: 2-50                   [1, 64, 4, 4]             --\n",
      "│    └─AvgPool2d: 2-51                   [1, 64, 1, 1]             --\n",
      "│    └─Conv2d: 2-52                      [1, 10, 1, 1]             640\n",
      "==========================================================================================\n",
      "Total params: 183,248\n",
      "Trainable params: 183,248\n",
      "Non-trainable params: 0\n",
      "Total mult-adds (M): 28.57\n",
      "==========================================================================================\n",
      "Input size (MB): 0.01\n",
      "Forward/backward pass size (MB): 1.95\n",
      "Params size (MB): 0.73\n",
      "Estimated Total Size (MB): 2.69\n",
      "==========================================================================================\n"
     ]
    }
   ],
   "source": [
    "model.summarize(device, (1, 3, 32, 32))"
   ]
  },
  {
   "cell_type": "code",
   "execution_count": null,
   "metadata": {},
   "outputs": [],
   "source": []
  }
 ],
 "metadata": {
  "kernelspec": {
   "display_name": "base",
   "language": "python",
   "name": "python3"
  },
  "language_info": {
   "codemirror_mode": {
    "name": "ipython",
    "version": 3
   },
   "file_extension": ".py",
   "mimetype": "text/x-python",
   "name": "python",
   "nbconvert_exporter": "python",
   "pygments_lexer": "ipython3",
   "version": "3.10.10"
  },
  "orig_nbformat": 4
 },
 "nbformat": 4,
 "nbformat_minor": 2
}
