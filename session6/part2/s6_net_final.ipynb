{
 "cells": [
  {
   "cell_type": "code",
   "execution_count": null,
   "metadata": {
    "id": "4Sob7XgCbb_j"
   },
   "outputs": [],
   "source": [
    "import torch\n",
    "import torch.optim as optim\n",
    "from model import Net2, modelsummary\n",
    "from torchvision import transforms\n",
    "from utils import Trainer, build_mnist, evaluate_model, plot_history, plot_sampledata"
   ]
  },
  {
   "cell_type": "code",
   "execution_count": null,
   "metadata": {
    "colab": {
     "base_uri": "https://localhost:8080/"
    },
    "id": "yQ_13afSbucw",
    "outputId": "f6d3de68-2846-4cb8-b3d5-2ae36d0569f0"
   },
   "outputs": [],
   "source": [
    "# CUDA?\n",
    "torch.manual_seed(1)\n",
    "cuda = torch.cuda.is_available()\n",
    "print(\"CUDA Available?\", cuda)"
   ]
  },
  {
   "cell_type": "code",
   "execution_count": null,
   "metadata": {
    "id": "KygsWvNPbwV4"
   },
   "outputs": [],
   "source": [
    "# Train data transformations\n",
    "train_transforms = transforms.Compose(\n",
    "    [\n",
    "        transforms.RandomApply(\n",
    "            [\n",
    "                transforms.CenterCrop(22),\n",
    "            ],\n",
    "            p=0.1,\n",
    "        ),\n",
    "        transforms.Resize((28, 28)),\n",
    "        transforms.RandomRotation((-15.0, 15.0), fill=0),\n",
    "        transforms.ToTensor(),\n",
    "        transforms.Normalize((0.1307,), (0.3081,)),\n",
    "    ]\n",
    ")\n",
    "\n",
    "# Test data transformations\n",
    "test_transforms = transforms.Compose(\n",
    "    [transforms.ToTensor(), transforms.Normalize((0.1307,), (0.3081,))]\n",
    ")"
   ]
  },
  {
   "cell_type": "code",
   "execution_count": null,
   "metadata": {
    "id": "vm9a5S4Obxb1"
   },
   "outputs": [],
   "source": [
    "batch_size = 256\n",
    "\n",
    "kwargs = {\n",
    "    \"batch_size\": batch_size,\n",
    "    \"shuffle\": True,\n",
    "    \"num_workers\": 2,\n",
    "    \"pin_memory\": True,\n",
    "}\n",
    "\n",
    "train_data, train_loader = build_mnist(set=\"train\", transforms=train_transforms, **kwargs)\n",
    "test_data, test_loader = build_mnist(set=\"test\", transforms=test_transforms, **kwargs)"
   ]
  },
  {
   "cell_type": "code",
   "execution_count": null,
   "metadata": {
    "colab": {
     "base_uri": "https://localhost:8080/",
     "height": 463
    },
    "id": "3o97HN6Hbyps",
    "outputId": "4b2efa42-d228-4f46-82f5-125ca4341266"
   },
   "outputs": [],
   "source": [
    "plot_sampledata(train_loader)"
   ]
  },
  {
   "cell_type": "code",
   "execution_count": null,
   "metadata": {
    "colab": {
     "base_uri": "https://localhost:8080/"
    },
    "id": "21fa8qLYbz4R",
    "outputId": "c3962580-45f1-451e-bdff-1c2d98706433"
   },
   "outputs": [],
   "source": [
    "Net2()(torch.rand(1, 1, 28, 28))"
   ]
  },
  {
   "cell_type": "code",
   "execution_count": null,
   "metadata": {
    "colab": {
     "base_uri": "https://localhost:8080/"
    },
    "id": "LOCjQXkkb1GR",
    "outputId": "fbe7a80c-9f59-4b8d-ef66-da21f3064fc5"
   },
   "outputs": [],
   "source": [
    "use_cuda = torch.cuda.is_available()\n",
    "device = torch.device(\"cuda\" if use_cuda else \"cpu\")\n",
    "modelsummary(Net2(), device)"
   ]
  },
  {
   "cell_type": "code",
   "execution_count": null,
   "metadata": {
    "colab": {
     "background_save": true,
     "base_uri": "https://localhost:8080/"
    },
    "id": "IK8f0qYvb2BL",
    "outputId": "5574be9e-ca14-4df6-b0d8-4f0eac311493"
   },
   "outputs": [],
   "source": [
    "num_epochs = 20\n",
    "model = Net2(drop=0.01).to(device)\n",
    "optimizer = optim.SGD(model.parameters(), lr=0.02, momentum=0.9)\n",
    "scheduler = optim.lr_scheduler.StepLR(optimizer, step_size=15, gamma=0.1, verbose=True)\n",
    "# scheduler = None\n",
    "\n",
    "trainer = Trainer(model, device, optimizer)\n",
    "for epoch in range(1, num_epochs + 1):\n",
    "    print(f\"Epoch {epoch}\")\n",
    "    trainer.train(train_loader)\n",
    "    trainer.test(test_loader)\n",
    "    if scheduler:\n",
    "        scheduler.step()"
   ]
  },
  {
   "cell_type": "code",
   "execution_count": null,
   "metadata": {
    "colab": {
     "background_save": true
    },
    "id": "NMKmMY2TcCGb",
    "outputId": "cf1c5f40-33e4-4f0c-fa74-efb14a2e910b"
   },
   "outputs": [],
   "source": [
    "plot_history(trainer.train_losses, trainer.train_acc, trainer.test_losses, trainer.test_acc)"
   ]
  },
  {
   "cell_type": "code",
   "execution_count": null,
   "metadata": {
    "colab": {
     "background_save": true
    },
    "id": "38QSHx5kgeEv",
    "outputId": "364ea939-bf27-4026-ce02-a27b29501571"
   },
   "outputs": [],
   "source": [
    "evaluate_model(trainer.model, test_loader, device)"
   ]
  },
  {
   "cell_type": "code",
   "execution_count": null,
   "metadata": {
    "id": "2HiFHXvxggjq"
   },
   "outputs": [],
   "source": []
  }
 ],
 "metadata": {
  "accelerator": "GPU",
  "colab": {
   "provenance": []
  },
  "kernelspec": {
   "display_name": "Python 3",
   "name": "python3"
  },
  "language_info": {
   "name": "python"
  }
 },
 "nbformat": 4,
 "nbformat_minor": 0
}
