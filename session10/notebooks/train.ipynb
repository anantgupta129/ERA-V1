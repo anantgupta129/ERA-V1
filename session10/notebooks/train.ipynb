{
 "cells": [
  {
   "cell_type": "code",
   "execution_count": null,
   "metadata": {
    "colab": {
     "base_uri": "https://localhost:8080/"
    },
    "id": "XFwb3Nc6tWMk",
    "outputId": "a34e70f2-777b-4383-a956-fee3911e36d6"
   },
   "outputs": [],
   "source": [
    "!git clone https://github.com/anantgupta129/ERA-V1.git\n",
    "!pip install torchinfo torch-lr-finder -q"
   ]
  },
  {
   "cell_type": "code",
   "execution_count": null,
   "metadata": {
    "colab": {
     "base_uri": "https://localhost:8080/"
    },
    "id": "SQdX0Es--rvR",
    "outputId": "688a4805-a11d-4fa8-b13a-4f4da3724a9c"
   },
   "outputs": [],
   "source": [
    "# !rm -rf /content/ERA-V1\n",
    "%cd ERA-V1/session10"
   ]
  },
  {
   "cell_type": "code",
   "execution_count": null,
   "metadata": {
    "id": "Y5KS59oktNpG"
   },
   "outputs": [],
   "source": [
    "import torch\n",
    "import torch.optim as optim\n",
    "from dataset import build_cifar\n",
    "from models import CustomResNet as Net\n",
    "from torchvision import transforms as T"
   ]
  },
  {
   "cell_type": "markdown",
   "metadata": {
    "id": "mr7JT8Aytioi"
   },
   "source": [
    "# Load Data"
   ]
  },
  {
   "cell_type": "code",
   "execution_count": null,
   "metadata": {
    "colab": {
     "base_uri": "https://localhost:8080/"
    },
    "id": "GPfRDRpZACDu",
    "outputId": "d93c843f-8e60-4692-bccd-c17b248deec5"
   },
   "outputs": [],
   "source": [
    "batch_size = 512\n",
    "\n",
    "kwargs = {\n",
    "    \"batch_size\": batch_size,\n",
    "    \"shuffle\": True,\n",
    "    \"num_workers\": 2,\n",
    "    \"pin_memory\": True,\n",
    "}\n",
    "\n",
    "train_loader = build_cifar(set=\"train\", **kwargs)\n",
    "test_loader = build_cifar(set=\"test\", **kwargs)"
   ]
  },
  {
   "cell_type": "code",
   "execution_count": null,
   "metadata": {
    "colab": {
     "base_uri": "https://localhost:8080/"
    },
    "id": "a5Fpmv0Ctzrr",
    "outputId": "90b4dc4f-3c35-4a8f-c14e-ae38b4560f57"
   },
   "outputs": [],
   "source": [
    "use_cuda = torch.cuda.is_available()\n",
    "device = torch.device(\"cuda\" if use_cuda else \"cpu\")\n",
    "print(device)\n",
    "model = Net().to(device)"
   ]
  },
  {
   "cell_type": "code",
   "execution_count": null,
   "metadata": {
    "colab": {
     "base_uri": "https://localhost:8080/"
    },
    "id": "ZQX5zpwMxgoo",
    "outputId": "5426b217-e663-46cb-896b-2ef5fa07da13"
   },
   "outputs": [],
   "source": [
    "model.summarize(device, (1, 3, 32, 32))"
   ]
  },
  {
   "cell_type": "code",
   "execution_count": null,
   "metadata": {
    "colab": {
     "base_uri": "https://localhost:8080/",
     "height": 558,
     "referenced_widgets": [
      "30c21a278eb74cc9b1dfcb6537b27d1b",
      "de376c1eee9542ada6dea9991e5a9d3e",
      "79c7b19f8bbc4ea988ddd0712b07c211",
      "d460b0a7323b4039b3d7e541d7cfb24a",
      "5171d005413843d185e080bee9ffced1",
      "f3c1ea0bdc414824bc9783fe5af31762",
      "08a30fb541064b299d3b278dada5385c",
      "03024f5d03ae481c91294909aac5fc97",
      "76c4bc3cde6b4af4ba0e19b6c1913a31",
      "1efb5367f49544e88113721c6ac601aa",
      "305348abd1504bdf8db1a495be4bb7f9"
     ]
    },
    "id": "-NC38cJ6AI5X",
    "outputId": "08777ab2-0ee0-40aa-a0bb-8189c0799fee"
   },
   "outputs": [],
   "source": [
    "from torch.nn import CrossEntropyLoss\n",
    "from utils import find_lr\n",
    "\n",
    "model = Net(drop=0.02).to(device)\n",
    "optimizer = optim.Adam(model.parameters(), lr=0.01)  #\n",
    "\n",
    "find_lr(model, device, optimizer, criterion=CrossEntropyLoss(), dataloader=train_loader)"
   ]
  },
  {
   "cell_type": "code",
   "execution_count": null,
   "metadata": {
    "colab": {
     "base_uri": "https://localhost:8080/"
    },
    "id": "k0nHjFEO4pja",
    "outputId": "5a9fe8b6-957a-427b-b394-3aa6016b0450"
   },
   "outputs": [],
   "source": [
    "from torch.optim.lr_scheduler import OneCycleLR\n",
    "from utils import Trainer\n",
    "\n",
    "num_epochs = 24\n",
    "\n",
    "scheduler = OneCycleLR(\n",
    "    optimizer,\n",
    "    max_lr=1.87e-02,\n",
    "    steps_per_epoch=len(train_loader),\n",
    "    epochs=num_epochs,\n",
    "    pct_start=5 / num_epochs,\n",
    "    div_factor=100,\n",
    "    three_phase=False,\n",
    "    final_div_factor=100,\n",
    "    anneal_strategy=\"linear\",\n",
    ")\n",
    "\n",
    "# scheduler = None\n",
    "trainer = Trainer(model, device, optimizer, scheduler)\n",
    "for epoch in range(1, num_epochs + 1):\n",
    "    print(f\"Epoch {epoch}\")\n",
    "    trainer.train(train_loader)\n",
    "    trainer.evaluate(test_loader)"
   ]
  },
  {
   "cell_type": "code",
   "execution_count": null,
   "metadata": {
    "colab": {
     "base_uri": "https://localhost:8080/",
     "height": 539
    },
    "id": "bFvg88ddXpgv",
    "outputId": "9dff366c-f8e2-4abf-9f82-c39e484c75fa"
   },
   "outputs": [],
   "source": [
    "trainer.plot_history()"
   ]
  },
  {
   "cell_type": "markdown",
   "metadata": {
    "id": "apjDX4MhA-jR"
   },
   "source": [
    "# Evaluate"
   ]
  },
  {
   "cell_type": "code",
   "execution_count": null,
   "metadata": {
    "colab": {
     "base_uri": "https://localhost:8080/",
     "height": 554
    },
    "id": "4t5jHL9MWe1A",
    "outputId": "6c39abce-78d3-4a76-a50d-7e5f79b15610"
   },
   "outputs": [],
   "source": [
    "from dataset import make_transform\n",
    "from utils import per_class_accuracy, plot_misclassified\n",
    "\n",
    "test_transforms = make_transform(\"test\")\n",
    "plot_misclassified(model, test_loader, device, test_transforms)"
   ]
  },
  {
   "cell_type": "code",
   "execution_count": null,
   "metadata": {
    "colab": {
     "base_uri": "https://localhost:8080/"
    },
    "id": "sk4FsS1DYQ8E",
    "outputId": "e16df41d-c26a-4ccb-b110-fcf800efef43"
   },
   "outputs": [],
   "source": [
    "per_class_accuracy(model, device, test_loader)"
   ]
  },
  {
   "cell_type": "code",
   "execution_count": null,
   "metadata": {
    "id": "AsumxflQuF1z"
   },
   "outputs": [],
   "source": []
  }
 ],
 "metadata": {
  "accelerator": "GPU",
  "colab": {
   "provenance": []
  },
  "kernelspec": {
   "display_name": "Python 3",
   "name": "python3"
  },
  "language_info": {
   "name": "python",
   "version": "3.10.10"
  }
 },
 "nbformat": 4,
 "nbformat_minor": 0
}
