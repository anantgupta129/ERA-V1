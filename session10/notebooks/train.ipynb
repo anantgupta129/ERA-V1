{
 "cells": [
  {
   "cell_type": "code",
   "execution_count": null,
   "metadata": {
    "colab": {
     "base_uri": "https://localhost:8080/"
    },
    "id": "XFwb3Nc6tWMk",
    "outputId": "a34e70f2-777b-4383-a956-fee3911e36d6"
   },
   "outputs": [
    {
     "name": "stdout",
     "output_type": "stream",
     "text": [
      "Cloning into 'ERA-V1'...\n",
      "remote: Enumerating objects: 250, done.\u001b[K\n",
      "remote: Counting objects: 100% (250/250), done.\u001b[K\n",
      "remote: Compressing objects: 100% (165/165), done.\u001b[K\n",
      "remote: Total 250 (delta 130), reused 198 (delta 79), pack-reused 0\u001b[K\n",
      "Receiving objects: 100% (250/250), 2.58 MiB | 15.12 MiB/s, done.\n",
      "Resolving deltas: 100% (130/130), done.\n"
     ]
    }
   ],
   "source": [
    "!git clone https://github.com/anantgupta129/ERA-V1.git\n",
    "!pip install torchinfo torch-lr-finder -q"
   ]
  },
  {
   "cell_type": "code",
   "execution_count": null,
   "metadata": {
    "colab": {
     "base_uri": "https://localhost:8080/"
    },
    "id": "SQdX0Es--rvR",
    "outputId": "688a4805-a11d-4fa8-b13a-4f4da3724a9c"
   },
   "outputs": [
    {
     "name": "stdout",
     "output_type": "stream",
     "text": [
      "/content/ERA-V1/session10\n"
     ]
    }
   ],
   "source": [
    "# !rm -rf /content/ERA-V1\n",
    "%cd ERA-V1/session10"
   ]
  },
  {
   "cell_type": "code",
   "execution_count": null,
   "metadata": {
    "id": "Y5KS59oktNpG"
   },
   "outputs": [],
   "source": [
    "import torch\n",
    "from torchvision import transforms as T\n",
    "\n",
    "import torch.optim as optim\n",
    "\n",
    "from models import CustomResNet as Net\n",
    "from dataset import build_cifar"
   ]
  },
  {
   "cell_type": "markdown",
   "metadata": {
    "id": "mr7JT8Aytioi"
   },
   "source": [
    "# Load Data"
   ]
  },
  {
   "cell_type": "code",
   "execution_count": null,
   "metadata": {
    "colab": {
     "base_uri": "https://localhost:8080/"
    },
    "id": "GPfRDRpZACDu",
    "outputId": "d93c843f-8e60-4692-bccd-c17b248deec5"
   },
   "outputs": [
    {
     "name": "stdout",
     "output_type": "stream",
     "text": [
      "Files already downloaded and verified\n",
      "Files already downloaded and verified\n"
     ]
    }
   ],
   "source": [
    "batch_size = 512\n",
    "\n",
    "kwargs = {\n",
    "    \"batch_size\": batch_size,\n",
    "    \"shuffle\": True,\n",
    "    \"num_workers\": 2,\n",
    "    \"pin_memory\": True,\n",
    "}\n",
    "\n",
    "train_loader = build_cifar(set=\"train\", **kwargs)\n",
    "test_loader = build_cifar(set=\"test\", **kwargs)"
   ]
  },
  {
   "cell_type": "code",
   "execution_count": null,
   "metadata": {
    "colab": {
     "base_uri": "https://localhost:8080/"
    },
    "id": "a5Fpmv0Ctzrr",
    "outputId": "90b4dc4f-3c35-4a8f-c14e-ae38b4560f57"
   },
   "outputs": [
    {
     "name": "stdout",
     "output_type": "stream",
     "text": [
      "cuda\n"
     ]
    }
   ],
   "source": [
    "use_cuda = torch.cuda.is_available()\n",
    "device = torch.device(\"cuda\" if use_cuda else \"cpu\")\n",
    "print(device)\n",
    "model = Net().to(device)"
   ]
  },
  {
   "cell_type": "code",
   "execution_count": null,
   "metadata": {
    "colab": {
     "base_uri": "https://localhost:8080/"
    },
    "id": "ZQX5zpwMxgoo",
    "outputId": "5426b217-e663-46cb-896b-2ef5fa07da13"
   },
   "outputs": [
    {
     "name": "stdout",
     "output_type": "stream",
     "text": [
      "==========================================================================================\n",
      "Layer (type:depth-idx)                   Output Shape              Param #\n",
      "==========================================================================================\n",
      "CustomResNet                             [1, 10]                   --\n",
      "├─Sequential: 1-1                        [1, 64, 32, 32]           --\n",
      "│    └─Conv2d: 2-1                       [1, 64, 32, 32]           1,728\n",
      "│    └─BatchNorm2d: 2-2                  [1, 64, 32, 32]           128\n",
      "│    └─ReLU: 2-3                         [1, 64, 32, 32]           --\n",
      "│    └─Dropout2d: 2-4                    [1, 64, 32, 32]           --\n",
      "├─Sequential: 1-2                        [1, 128, 16, 16]          --\n",
      "│    └─Conv2d: 2-5                       [1, 128, 32, 32]          73,728\n",
      "│    └─MaxPool2d: 2-6                    [1, 128, 16, 16]          --\n",
      "│    └─BatchNorm2d: 2-7                  [1, 128, 16, 16]          256\n",
      "│    └─ReLU: 2-8                         [1, 128, 16, 16]          --\n",
      "│    └─Dropout2d: 2-9                    [1, 128, 16, 16]          --\n",
      "│    └─ResBlock: 2-10                    [1, 128, 16, 16]          --\n",
      "│    │    └─Conv2d: 3-1                  [1, 128, 16, 16]          147,456\n",
      "│    │    └─BatchNorm2d: 3-2             [1, 128, 16, 16]          256\n",
      "│    │    └─Dropout2d: 3-3               [1, 128, 16, 16]          --\n",
      "│    │    └─Conv2d: 3-4                  [1, 128, 16, 16]          147,456\n",
      "│    │    └─BatchNorm2d: 3-5             [1, 128, 16, 16]          256\n",
      "│    │    └─Dropout2d: 3-6               [1, 128, 16, 16]          --\n",
      "├─Sequential: 1-3                        [1, 256, 8, 8]            --\n",
      "│    └─Conv2d: 2-11                      [1, 256, 16, 16]          294,912\n",
      "│    └─MaxPool2d: 2-12                   [1, 256, 8, 8]            --\n",
      "│    └─BatchNorm2d: 2-13                 [1, 256, 8, 8]            512\n",
      "│    └─ReLU: 2-14                        [1, 256, 8, 8]            --\n",
      "│    └─Dropout2d: 2-15                   [1, 256, 8, 8]            --\n",
      "├─Sequential: 1-4                        [1, 512, 4, 4]            --\n",
      "│    └─Conv2d: 2-16                      [1, 512, 8, 8]            1,179,648\n",
      "│    └─MaxPool2d: 2-17                   [1, 512, 4, 4]            --\n",
      "│    └─BatchNorm2d: 2-18                 [1, 512, 4, 4]            1,024\n",
      "│    └─ReLU: 2-19                        [1, 512, 4, 4]            --\n",
      "│    └─Dropout2d: 2-20                   [1, 512, 4, 4]            --\n",
      "│    └─ResBlock: 2-21                    [1, 512, 4, 4]            --\n",
      "│    │    └─Conv2d: 3-7                  [1, 512, 4, 4]            2,359,296\n",
      "│    │    └─BatchNorm2d: 3-8             [1, 512, 4, 4]            1,024\n",
      "│    │    └─Dropout2d: 3-9               [1, 512, 4, 4]            --\n",
      "│    │    └─Conv2d: 3-10                 [1, 512, 4, 4]            2,359,296\n",
      "│    │    └─BatchNorm2d: 3-11            [1, 512, 4, 4]            1,024\n",
      "│    │    └─Dropout2d: 3-12              [1, 512, 4, 4]            --\n",
      "├─MaxPool2d: 1-5                         [1, 512, 1, 1]            --\n",
      "├─Conv2d: 1-6                            [1, 10, 1, 1]             5,120\n",
      "==========================================================================================\n",
      "Total params: 6,573,120\n",
      "Trainable params: 6,573,120\n",
      "Non-trainable params: 0\n",
      "Total mult-adds (M): 379.27\n",
      "==========================================================================================\n",
      "Input size (MB): 0.01\n",
      "Forward/backward pass size (MB): 4.65\n",
      "Params size (MB): 26.29\n",
      "Estimated Total Size (MB): 30.96\n",
      "==========================================================================================\n"
     ]
    }
   ],
   "source": [
    "model.summarize(device, (1, 3, 32, 32))"
   ]
  },
  {
   "cell_type": "code",
   "execution_count": null,
   "metadata": {
    "colab": {
     "base_uri": "https://localhost:8080/",
     "height": 558,
     "referenced_widgets": [
      "30c21a278eb74cc9b1dfcb6537b27d1b",
      "de376c1eee9542ada6dea9991e5a9d3e",
      "79c7b19f8bbc4ea988ddd0712b07c211",
      "d460b0a7323b4039b3d7e541d7cfb24a",
      "5171d005413843d185e080bee9ffced1",
      "f3c1ea0bdc414824bc9783fe5af31762",
      "08a30fb541064b299d3b278dada5385c",
      "03024f5d03ae481c91294909aac5fc97",
      "76c4bc3cde6b4af4ba0e19b6c1913a31",
      "1efb5367f49544e88113721c6ac601aa",
      "305348abd1504bdf8db1a495be4bb7f9"
     ]
    },
    "id": "-NC38cJ6AI5X",
    "outputId": "08777ab2-0ee0-40aa-a0bb-8189c0799fee"
   },
   "outputs": [
    {
     "data": {
      "application/vnd.jupyter.widget-view+json": {
       "model_id": "30c21a278eb74cc9b1dfcb6537b27d1b",
       "version_major": 2,
       "version_minor": 0
      },
      "text/plain": [
       "  0%|          | 0/200 [00:00<?, ?it/s]"
      ]
     },
     "metadata": {},
     "output_type": "display_data"
    },
    {
     "name": "stdout",
     "output_type": "stream",
     "text": [
      "Stopping early, the loss has diverged\n",
      "Learning rate search finished. See the graph with {finder_name}.plot()\n",
      "LR suggestion: steepest gradient\n",
      "Suggested LR: 1.87E-02\n"
     ]
    },
    {
     "data": {
      "image/png": "[encoded data removed]",
      "text/plain": [
       "<Figure size 640x480 with 1 Axes>"
      ]
     },
     "metadata": {},
     "output_type": "display_data"
    }
   ],
   "source": [
    "from torch.nn import CrossEntropyLoss\n",
    "from utils import find_lr\n",
    "\n",
    "model = Net(drop=0.02).to(device)\n",
    "optimizer = optim.Adam(model.parameters(), lr=0.01)  #\n",
    "\n",
    "find_lr(model, device, optimizer, criterion=CrossEntropyLoss(), dataloader=train_loader)"
   ]
  },
  {
   "cell_type": "code",
   "execution_count": null,
   "metadata": {
    "colab": {
     "base_uri": "https://localhost:8080/"
    },
    "id": "k0nHjFEO4pja",
    "outputId": "5a9fe8b6-957a-427b-b394-3aa6016b0450"
   },
   "outputs": [
    {
     "name": "stdout",
     "output_type": "stream",
     "text": [
      "Epoch 1\n"
     ]
    },
    {
     "name": "stderr",
     "output_type": "stream",
     "text": [
      "Train: Loss=1.3658 Batch_id=97 Accuracy=41.45: 100%|██████████| 98/98 [00:21<00:00,  4.59it/s]\n"
     ]
    },
    {
     "name": "stdout",
     "output_type": "stream",
     "text": [
      "Test set: Average loss: 1.2123, Accuracy: 5727/10000 (57.27%)\n",
      "\n",
      "Epoch 2\n"
     ]
    },
    {
     "name": "stderr",
     "output_type": "stream",
     "text": [
      "Train: Loss=1.0456 Batch_id=97 Accuracy=59.82: 100%|██████████| 98/98 [00:21<00:00,  4.61it/s]\n"
     ]
    },
    {
     "name": "stdout",
     "output_type": "stream",
     "text": [
      "Test set: Average loss: 0.9961, Accuracy: 6729/10000 (67.29%)\n",
      "\n",
      "Epoch 3\n"
     ]
    },
    {
     "name": "stderr",
     "output_type": "stream",
     "text": [
      "Train: Loss=0.8974 Batch_id=97 Accuracy=66.20: 100%|██████████| 98/98 [00:21<00:00,  4.51it/s]\n"
     ]
    },
    {
     "name": "stdout",
     "output_type": "stream",
     "text": [
      "Test set: Average loss: 1.1278, Accuracy: 6804/10000 (68.04%)\n",
      "\n",
      "Epoch 4\n"
     ]
    },
    {
     "name": "stderr",
     "output_type": "stream",
     "text": [
      "Train: Loss=0.7038 Batch_id=97 Accuracy=70.39: 100%|██████████| 98/98 [00:22<00:00,  4.45it/s]\n"
     ]
    },
    {
     "name": "stdout",
     "output_type": "stream",
     "text": [
      "Test set: Average loss: 0.8053, Accuracy: 7434/10000 (74.34%)\n",
      "\n",
      "Epoch 5\n"
     ]
    },
    {
     "name": "stderr",
     "output_type": "stream",
     "text": [
      "Train: Loss=0.7948 Batch_id=97 Accuracy=75.06: 100%|██████████| 98/98 [00:21<00:00,  4.47it/s]\n"
     ]
    },
    {
     "name": "stdout",
     "output_type": "stream",
     "text": [
      "Test set: Average loss: 0.7442, Accuracy: 7613/10000 (76.13%)\n",
      "\n",
      "Epoch 6\n"
     ]
    },
    {
     "name": "stderr",
     "output_type": "stream",
     "text": [
      "Train: Loss=0.5759 Batch_id=97 Accuracy=77.85: 100%|██████████| 98/98 [00:21<00:00,  4.54it/s]\n"
     ]
    },
    {
     "name": "stdout",
     "output_type": "stream",
     "text": [
      "Test set: Average loss: 0.4743, Accuracy: 8393/10000 (83.93%)\n",
      "\n",
      "Epoch 7\n"
     ]
    },
    {
     "name": "stderr",
     "output_type": "stream",
     "text": [
      "Train: Loss=0.6248 Batch_id=97 Accuracy=80.66: 100%|██████████| 98/98 [00:21<00:00,  4.49it/s]\n"
     ]
    },
    {
     "name": "stdout",
     "output_type": "stream",
     "text": [
      "Test set: Average loss: 0.5424, Accuracy: 8181/10000 (81.81%)\n",
      "\n",
      "Epoch 8\n"
     ]
    },
    {
     "name": "stderr",
     "output_type": "stream",
     "text": [
      "Train: Loss=0.4858 Batch_id=97 Accuracy=82.08: 100%|██████████| 98/98 [00:21<00:00,  4.61it/s]\n"
     ]
    },
    {
     "name": "stdout",
     "output_type": "stream",
     "text": [
      "Test set: Average loss: 0.4354, Accuracy: 8570/10000 (85.70%)\n",
      "\n",
      "Epoch 9\n"
     ]
    },
    {
     "name": "stderr",
     "output_type": "stream",
     "text": [
      "Train: Loss=0.4958 Batch_id=97 Accuracy=83.71: 100%|██████████| 98/98 [00:21<00:00,  4.66it/s]\n"
     ]
    },
    {
     "name": "stdout",
     "output_type": "stream",
     "text": [
      "Test set: Average loss: 0.3994, Accuracy: 8663/10000 (86.63%)\n",
      "\n",
      "Epoch 10\n"
     ]
    },
    {
     "name": "stderr",
     "output_type": "stream",
     "text": [
      "Train: Loss=0.4568 Batch_id=97 Accuracy=84.84: 100%|██████████| 98/98 [00:21<00:00,  4.58it/s]\n"
     ]
    },
    {
     "name": "stdout",
     "output_type": "stream",
     "text": [
      "Test set: Average loss: 0.3828, Accuracy: 8685/10000 (86.85%)\n",
      "\n",
      "Epoch 11\n"
     ]
    },
    {
     "name": "stderr",
     "output_type": "stream",
     "text": [
      "Train: Loss=0.4801 Batch_id=97 Accuracy=85.73: 100%|██████████| 98/98 [00:21<00:00,  4.51it/s]\n"
     ]
    },
    {
     "name": "stdout",
     "output_type": "stream",
     "text": [
      "Test set: Average loss: 0.3590, Accuracy: 8785/10000 (87.85%)\n",
      "\n",
      "Epoch 12\n"
     ]
    },
    {
     "name": "stderr",
     "output_type": "stream",
     "text": [
      "Train: Loss=0.4143 Batch_id=97 Accuracy=86.65: 100%|██████████| 98/98 [00:21<00:00,  4.49it/s]\n"
     ]
    },
    {
     "name": "stdout",
     "output_type": "stream",
     "text": [
      "Test set: Average loss: 0.3684, Accuracy: 8808/10000 (88.08%)\n",
      "\n",
      "Epoch 13\n"
     ]
    },
    {
     "name": "stderr",
     "output_type": "stream",
     "text": [
      "Train: Loss=0.4292 Batch_id=97 Accuracy=87.52: 100%|██████████| 98/98 [00:21<00:00,  4.51it/s]\n"
     ]
    },
    {
     "name": "stdout",
     "output_type": "stream",
     "text": [
      "Test set: Average loss: 0.3150, Accuracy: 9019/10000 (90.19%)\n",
      "\n",
      "Epoch 14\n"
     ]
    },
    {
     "name": "stderr",
     "output_type": "stream",
     "text": [
      "Train: Loss=0.2940 Batch_id=97 Accuracy=88.18: 100%|██████████| 98/98 [00:21<00:00,  4.53it/s]\n"
     ]
    },
    {
     "name": "stdout",
     "output_type": "stream",
     "text": [
      "Test set: Average loss: 0.3005, Accuracy: 9003/10000 (90.03%)\n",
      "\n",
      "Epoch 15\n"
     ]
    },
    {
     "name": "stderr",
     "output_type": "stream",
     "text": [
      "Train: Loss=0.2638 Batch_id=97 Accuracy=89.29: 100%|██████████| 98/98 [00:21<00:00,  4.60it/s]\n"
     ]
    },
    {
     "name": "stdout",
     "output_type": "stream",
     "text": [
      "Test set: Average loss: 0.2987, Accuracy: 9023/10000 (90.23%)\n",
      "\n",
      "Epoch 16\n"
     ]
    },
    {
     "name": "stderr",
     "output_type": "stream",
     "text": [
      "Train: Loss=0.2499 Batch_id=97 Accuracy=89.73: 100%|██████████| 98/98 [00:21<00:00,  4.65it/s]\n"
     ]
    },
    {
     "name": "stdout",
     "output_type": "stream",
     "text": [
      "Test set: Average loss: 0.2991, Accuracy: 9023/10000 (90.23%)\n",
      "\n",
      "Epoch 17\n"
     ]
    },
    {
     "name": "stderr",
     "output_type": "stream",
     "text": [
      "Train: Loss=0.3215 Batch_id=97 Accuracy=90.47: 100%|██████████| 98/98 [00:21<00:00,  4.61it/s]\n"
     ]
    },
    {
     "name": "stdout",
     "output_type": "stream",
     "text": [
      "Test set: Average loss: 0.2853, Accuracy: 9115/10000 (91.15%)\n",
      "\n",
      "Epoch 18\n"
     ]
    },
    {
     "name": "stderr",
     "output_type": "stream",
     "text": [
      "Train: Loss=0.2817 Batch_id=97 Accuracy=90.91: 100%|██████████| 98/98 [00:21<00:00,  4.52it/s]\n"
     ]
    },
    {
     "name": "stdout",
     "output_type": "stream",
     "text": [
      "Test set: Average loss: 0.2671, Accuracy: 9155/10000 (91.55%)\n",
      "\n",
      "Epoch 19\n"
     ]
    },
    {
     "name": "stderr",
     "output_type": "stream",
     "text": [
      "Train: Loss=0.1560 Batch_id=97 Accuracy=91.63: 100%|██████████| 98/98 [00:22<00:00,  4.45it/s]\n"
     ]
    },
    {
     "name": "stdout",
     "output_type": "stream",
     "text": [
      "Test set: Average loss: 0.2811, Accuracy: 9135/10000 (91.35%)\n",
      "\n",
      "Epoch 20\n"
     ]
    },
    {
     "name": "stderr",
     "output_type": "stream",
     "text": [
      "Train: Loss=0.1861 Batch_id=97 Accuracy=92.26: 100%|██████████| 98/98 [00:21<00:00,  4.54it/s]\n"
     ]
    },
    {
     "name": "stdout",
     "output_type": "stream",
     "text": [
      "Test set: Average loss: 0.2555, Accuracy: 9234/10000 (92.34%)\n",
      "\n",
      "Epoch 21\n"
     ]
    },
    {
     "name": "stderr",
     "output_type": "stream",
     "text": [
      "Train: Loss=0.1393 Batch_id=97 Accuracy=92.72: 100%|██████████| 98/98 [00:21<00:00,  4.52it/s]\n"
     ]
    },
    {
     "name": "stdout",
     "output_type": "stream",
     "text": [
      "Test set: Average loss: 0.2480, Accuracy: 9234/10000 (92.34%)\n",
      "\n",
      "Epoch 22\n"
     ]
    },
    {
     "name": "stderr",
     "output_type": "stream",
     "text": [
      "Train: Loss=0.1632 Batch_id=97 Accuracy=93.54: 100%|██████████| 98/98 [00:21<00:00,  4.60it/s]\n"
     ]
    },
    {
     "name": "stdout",
     "output_type": "stream",
     "text": [
      "Test set: Average loss: 0.2400, Accuracy: 9274/10000 (92.74%)\n",
      "\n",
      "Epoch 23\n"
     ]
    },
    {
     "name": "stderr",
     "output_type": "stream",
     "text": [
      "Train: Loss=0.1592 Batch_id=97 Accuracy=94.05: 100%|██████████| 98/98 [00:21<00:00,  4.60it/s]\n"
     ]
    },
    {
     "name": "stdout",
     "output_type": "stream",
     "text": [
      "Test set: Average loss: 0.2369, Accuracy: 9310/10000 (93.10%)\n",
      "\n",
      "Epoch 24\n"
     ]
    },
    {
     "name": "stderr",
     "output_type": "stream",
     "text": [
      "Train: Loss=0.1658 Batch_id=97 Accuracy=94.42: 100%|██████████| 98/98 [00:21<00:00,  4.56it/s]\n"
     ]
    },
    {
     "name": "stdout",
     "output_type": "stream",
     "text": [
      "Test set: Average loss: 0.2346, Accuracy: 9324/10000 (93.24%)\n",
      "\n"
     ]
    }
   ],
   "source": [
    "from torch.optim.lr_scheduler import OneCycleLR\n",
    "from utils import Trainer\n",
    "\n",
    "\n",
    "num_epochs = 24\n",
    "\n",
    "scheduler = OneCycleLR(\n",
    "    optimizer,\n",
    "    max_lr=1.87e-02,\n",
    "    steps_per_epoch=len(train_loader),\n",
    "    epochs=num_epochs,\n",
    "    pct_start=5 / num_epochs,\n",
    "    div_factor=100,\n",
    "    three_phase=False,\n",
    "    final_div_factor=100,\n",
    "    anneal_strategy=\"linear\",\n",
    ")\n",
    "\n",
    "# scheduler = None\n",
    "trainer = Trainer(model, device, optimizer, scheduler)\n",
    "for epoch in range(1, num_epochs + 1):\n",
    "    print(f\"Epoch {epoch}\")\n",
    "    trainer.train(train_loader)\n",
    "    trainer.evaluate(test_loader)"
   ]
  },
  {
   "cell_type": "code",
   "execution_count": null,
   "metadata": {
    "colab": {
     "base_uri": "https://localhost:8080/",
     "height": 539
    },
    "id": "bFvg88ddXpgv",
    "outputId": "9dff366c-f8e2-4abf-9f82-c39e484c75fa"
   },
   "outputs": [
    {
     "name": "stdout",
     "output_type": "stream",
     "text": [
      "Set\t Max Acc@Epoch\t Last Epoch Acc\n",
      "train\t 94.42@24\t\t94.42\n",
      "test\t 93.24@24\t\t93.24\n"
     ]
    },
    {
     "data": {
      "image/png": "[encoded data removed]",
      "text/plain": [
       "<Figure size 1400x500 with 2 Axes>"
      ]
     },
     "metadata": {},
     "output_type": "display_data"
    }
   ],
   "source": [
    "trainer.plot_history()"
   ]
  },
  {
   "cell_type": "markdown",
   "metadata": {
    "id": "apjDX4MhA-jR"
   },
   "source": [
    "# Evaluate"
   ]
  },
  {
   "cell_type": "code",
   "execution_count": null,
   "metadata": {
    "colab": {
     "base_uri": "https://localhost:8080/",
     "height": 554
    },
    "id": "4t5jHL9MWe1A",
    "outputId": "6c39abce-78d3-4a76-a50d-7e5f79b15610"
   },
   "outputs": [
    {
     "data": {
      "image/png": "[encoded data removed]",
      "text/plain": [
       "<Figure size 1500x600 with 10 Axes>"
      ]
     },
     "metadata": {},
     "output_type": "display_data"
    }
   ],
   "source": [
    "from dataset import make_transform\n",
    "from utils import plot_misclassified, per_class_accuracy\n",
    "\n",
    "test_transforms = make_transform(\"test\")\n",
    "plot_misclassified(model, test_loader, device, test_transforms)"
   ]
  },
  {
   "cell_type": "code",
   "execution_count": null,
   "metadata": {
    "colab": {
     "base_uri": "https://localhost:8080/"
    },
    "id": "sk4FsS1DYQ8E",
    "outputId": "e16df41d-c26a-4ccb-b110-fcf800efef43"
   },
   "outputs": [
    {
     "name": "stdout",
     "output_type": "stream",
     "text": [
      "[x] Accuracy of ::\n",
      "\t[*] airplane : 100 %\n",
      "\t[*] automobile : 96 %\n",
      "\t[*]     bird : 88 %\n",
      "\t[*]      cat : 76 %\n",
      "\t[*]     deer : 94 %\n",
      "\t[*]      dog : 95 %\n",
      "\t[*]     frog : 100 %\n",
      "\t[*]    horse : 100 %\n",
      "\t[*]     ship : 100 %\n",
      "\t[*]    truck : 85 %\n"
     ]
    }
   ],
   "source": [
    "per_class_accuracy(model, device, test_loader)"
   ]
  },
  {
   "cell_type": "code",
   "execution_count": null,
   "metadata": {
    "id": "AsumxflQuF1z"
   },
   "outputs": [],
   "source": []
  }
 ],
 "metadata": {
  "accelerator": "GPU",
  "colab": {
   "provenance": []
  },
  "kernelspec": {
   "display_name": "Python 3",
   "name": "python3"
  },
  "language_info": {
   "name": "python",
   "version": "3.10.10"
  },
  "widgets": {
   "application/vnd.jupyter.widget-state+json": {
    "03024f5d03ae481c91294909aac5fc97": {
     "model_module": "@jupyter-widgets/base",
     "model_module_version": "1.2.0",
     "model_name": "LayoutModel",
     "state": {
      "_model_module": "@jupyter-widgets/base",
      "_model_module_version": "1.2.0",
      "_model_name": "LayoutModel",
      "_view_count": null,
      "_view_module": "@jupyter-widgets/base",
      "_view_module_version": "1.2.0",
      "_view_name": "LayoutView",
      "align_content": null,
      "align_items": null,
      "align_self": null,
      "border": null,
      "bottom": null,
      "display": null,
      "flex": null,
      "flex_flow": null,
      "grid_area": null,
      "grid_auto_columns": null,
      "grid_auto_flow": null,
      "grid_auto_rows": null,
      "grid_column": null,
      "grid_gap": null,
      "grid_row": null,
      "grid_template_areas": null,
      "grid_template_columns": null,
      "grid_template_rows": null,
      "height": null,
      "justify_content": null,
      "justify_items": null,
      "left": null,
      "margin": null,
      "max_height": null,
      "max_width": null,
      "min_height": null,
      "min_width": null,
      "object_fit": null,
      "object_position": null,
      "order": null,
      "overflow": null,
      "overflow_x": null,
      "overflow_y": null,
      "padding": null,
      "right": null,
      "top": null,
      "visibility": null,
      "width": null
     }
    },
    "08a30fb541064b299d3b278dada5385c": {
     "model_module": "@jupyter-widgets/controls",
     "model_module_version": "1.5.0",
     "model_name": "DescriptionStyleModel",
     "state": {
      "_model_module": "@jupyter-widgets/controls",
      "_model_module_version": "1.5.0",
      "_model_name": "DescriptionStyleModel",
      "_view_count": null,
      "_view_module": "@jupyter-widgets/base",
      "_view_module_version": "1.2.0",
      "_view_name": "StyleView",
      "description_width": ""
     }
    },
    "1efb5367f49544e88113721c6ac601aa": {
     "model_module": "@jupyter-widgets/base",
     "model_module_version": "1.2.0",
     "model_name": "LayoutModel",
     "state": {
      "_model_module": "@jupyter-widgets/base",
      "_model_module_version": "1.2.0",
      "_model_name": "LayoutModel",
      "_view_count": null,
      "_view_module": "@jupyter-widgets/base",
      "_view_module_version": "1.2.0",
      "_view_name": "LayoutView",
      "align_content": null,
      "align_items": null,
      "align_self": null,
      "border": null,
      "bottom": null,
      "display": null,
      "flex": null,
      "flex_flow": null,
      "grid_area": null,
      "grid_auto_columns": null,
      "grid_auto_flow": null,
      "grid_auto_rows": null,
      "grid_column": null,
      "grid_gap": null,
      "grid_row": null,
      "grid_template_areas": null,
      "grid_template_columns": null,
      "grid_template_rows": null,
      "height": null,
      "justify_content": null,
      "justify_items": null,
      "left": null,
      "margin": null,
      "max_height": null,
      "max_width": null,
      "min_height": null,
      "min_width": null,
      "object_fit": null,
      "object_position": null,
      "order": null,
      "overflow": null,
      "overflow_x": null,
      "overflow_y": null,
      "padding": null,
      "right": null,
      "top": null,
      "visibility": null,
      "width": null
     }
    },
    "305348abd1504bdf8db1a495be4bb7f9": {
     "model_module": "@jupyter-widgets/controls",
     "model_module_version": "1.5.0",
     "model_name": "DescriptionStyleModel",
     "state": {
      "_model_module": "@jupyter-widgets/controls",
      "_model_module_version": "1.5.0",
      "_model_name": "DescriptionStyleModel",
      "_view_count": null,
      "_view_module": "@jupyter-widgets/base",
      "_view_module_version": "1.2.0",
      "_view_name": "StyleView",
      "description_width": ""
     }
    },
    "30c21a278eb74cc9b1dfcb6537b27d1b": {
     "model_module": "@jupyter-widgets/controls",
     "model_module_version": "1.5.0",
     "model_name": "HBoxModel",
     "state": {
      "_dom_classes": [],
      "_model_module": "@jupyter-widgets/controls",
      "_model_module_version": "1.5.0",
      "_model_name": "HBoxModel",
      "_view_count": null,
      "_view_module": "@jupyter-widgets/controls",
      "_view_module_version": "1.5.0",
      "_view_name": "HBoxView",
      "box_style": "",
      "children": [
       "IPY_MODEL_de376c1eee9542ada6dea9991e5a9d3e",
       "IPY_MODEL_79c7b19f8bbc4ea988ddd0712b07c211",
       "IPY_MODEL_d460b0a7323b4039b3d7e541d7cfb24a"
      ],
      "layout": "IPY_MODEL_5171d005413843d185e080bee9ffced1"
     }
    },
    "5171d005413843d185e080bee9ffced1": {
     "model_module": "@jupyter-widgets/base",
     "model_module_version": "1.2.0",
     "model_name": "LayoutModel",
     "state": {
      "_model_module": "@jupyter-widgets/base",
      "_model_module_version": "1.2.0",
      "_model_name": "LayoutModel",
      "_view_count": null,
      "_view_module": "@jupyter-widgets/base",
      "_view_module_version": "1.2.0",
      "_view_name": "LayoutView",
      "align_content": null,
      "align_items": null,
      "align_self": null,
      "border": null,
      "bottom": null,
      "display": null,
      "flex": null,
      "flex_flow": null,
      "grid_area": null,
      "grid_auto_columns": null,
      "grid_auto_flow": null,
      "grid_auto_rows": null,
      "grid_column": null,
      "grid_gap": null,
      "grid_row": null,
      "grid_template_areas": null,
      "grid_template_columns": null,
      "grid_template_rows": null,
      "height": null,
      "justify_content": null,
      "justify_items": null,
      "left": null,
      "margin": null,
      "max_height": null,
      "max_width": null,
      "min_height": null,
      "min_width": null,
      "object_fit": null,
      "object_position": null,
      "order": null,
      "overflow": null,
      "overflow_x": null,
      "overflow_y": null,
      "padding": null,
      "right": null,
      "top": null,
      "visibility": null,
      "width": null
     }
    },
    "76c4bc3cde6b4af4ba0e19b6c1913a31": {
     "model_module": "@jupyter-widgets/controls",
     "model_module_version": "1.5.0",
     "model_name": "ProgressStyleModel",
     "state": {
      "_model_module": "@jupyter-widgets/controls",
      "_model_module_version": "1.5.0",
      "_model_name": "ProgressStyleModel",
      "_view_count": null,
      "_view_module": "@jupyter-widgets/base",
      "_view_module_version": "1.2.0",
      "_view_name": "StyleView",
      "bar_color": null,
      "description_width": ""
     }
    },
    "79c7b19f8bbc4ea988ddd0712b07c211": {
     "model_module": "@jupyter-widgets/controls",
     "model_module_version": "1.5.0",
     "model_name": "FloatProgressModel",
     "state": {
      "_dom_classes": [],
      "_model_module": "@jupyter-widgets/controls",
      "_model_module_version": "1.5.0",
      "_model_name": "FloatProgressModel",
      "_view_count": null,
      "_view_module": "@jupyter-widgets/controls",
      "_view_module_version": "1.5.0",
      "_view_name": "ProgressView",
      "bar_style": "danger",
      "description": "",
      "description_tooltip": null,
      "layout": "IPY_MODEL_03024f5d03ae481c91294909aac5fc97",
      "max": 200,
      "min": 0,
      "orientation": "horizontal",
      "style": "IPY_MODEL_76c4bc3cde6b4af4ba0e19b6c1913a31",
      "value": 149
     }
    },
    "d460b0a7323b4039b3d7e541d7cfb24a": {
     "model_module": "@jupyter-widgets/controls",
     "model_module_version": "1.5.0",
     "model_name": "HTMLModel",
     "state": {
      "_dom_classes": [],
      "_model_module": "@jupyter-widgets/controls",
      "_model_module_version": "1.5.0",
      "_model_name": "HTMLModel",
      "_view_count": null,
      "_view_module": "@jupyter-widgets/controls",
      "_view_module_version": "1.5.0",
      "_view_name": "HTMLView",
      "description": "",
      "description_tooltip": null,
      "layout": "IPY_MODEL_1efb5367f49544e88113721c6ac601aa",
      "placeholder": "​",
      "style": "IPY_MODEL_305348abd1504bdf8db1a495be4bb7f9",
      "value": " 149/200 [00:32&lt;00:10,  4.86it/s]"
     }
    },
    "de376c1eee9542ada6dea9991e5a9d3e": {
     "model_module": "@jupyter-widgets/controls",
     "model_module_version": "1.5.0",
     "model_name": "HTMLModel",
     "state": {
      "_dom_classes": [],
      "_model_module": "@jupyter-widgets/controls",
      "_model_module_version": "1.5.0",
      "_model_name": "HTMLModel",
      "_view_count": null,
      "_view_module": "@jupyter-widgets/controls",
      "_view_module_version": "1.5.0",
      "_view_name": "HTMLView",
      "description": "",
      "description_tooltip": null,
      "layout": "IPY_MODEL_f3c1ea0bdc414824bc9783fe5af31762",
      "placeholder": "​",
      "style": "IPY_MODEL_08a30fb541064b299d3b278dada5385c",
      "value": " 74%"
     }
    },
    "f3c1ea0bdc414824bc9783fe5af31762": {
     "model_module": "@jupyter-widgets/base",
     "model_module_version": "1.2.0",
     "model_name": "LayoutModel",
     "state": {
      "_model_module": "@jupyter-widgets/base",
      "_model_module_version": "1.2.0",
      "_model_name": "LayoutModel",
      "_view_count": null,
      "_view_module": "@jupyter-widgets/base",
      "_view_module_version": "1.2.0",
      "_view_name": "LayoutView",
      "align_content": null,
      "align_items": null,
      "align_self": null,
      "border": null,
      "bottom": null,
      "display": null,
      "flex": null,
      "flex_flow": null,
      "grid_area": null,
      "grid_auto_columns": null,
      "grid_auto_flow": null,
      "grid_auto_rows": null,
      "grid_column": null,
      "grid_gap": null,
      "grid_row": null,
      "grid_template_areas": null,
      "grid_template_columns": null,
      "grid_template_rows": null,
      "height": null,
      "justify_content": null,
      "justify_items": null,
      "left": null,
      "margin": null,
      "max_height": null,
      "max_width": null,
      "min_height": null,
      "min_width": null,
      "object_fit": null,
      "object_position": null,
      "order": null,
      "overflow": null,
      "overflow_x": null,
      "overflow_y": null,
      "padding": null,
      "right": null,
      "top": null,
      "visibility": null,
      "width": null
     }
    }
   }
  }
 },
 "nbformat": 4,
 "nbformat_minor": 0
}
